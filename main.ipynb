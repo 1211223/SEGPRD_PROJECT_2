{
 "cells": [
  {
   "cell_type": "markdown",
   "id": "e0341c84",
   "metadata": {},
   "source": [
    "# https://www.kaggle.com/datasets/oyekanmiolamilekan/fake-employee-dataset"
   ]
  },
  {
   "cell_type": "code",
   "execution_count": 142,
   "id": "1156bd08",
   "metadata": {},
   "outputs": [],
   "source": [
    "import pandas as pd\n",
    "from sklearn.model_selection import train_test_split\n",
    "from sklearn.ensemble import RandomForestRegressor\n",
    "from sklearn.metrics import mean_absolute_error\n",
    "from datetime import datetime\n",
    "import hashlib\n",
    "import numpy as np\n",
    "import re\n",
    "from sklearn.model_selection import train_test_split\n",
    "from sklearn.preprocessing import LabelEncoder\n",
    "\n",
    "from sklearn.linear_model import LinearRegression\n",
    "from sklearn.tree import DecisionTreeRegressor\n",
    "from sklearn.ensemble import RandomForestRegressor, GradientBoostingRegressor\n",
    "from sklearn.metrics import mean_absolute_error, r2_score\n",
    "import seaborn as sns\n",
    "import matplotlib.pyplot as plt"
   ]
  },
  {
   "cell_type": "code",
   "execution_count": 143,
   "id": "c9012bce",
   "metadata": {},
   "outputs": [],
   "source": [
    "pd.set_option('display.max_columns', None)"
   ]
  },
  {
   "cell_type": "code",
   "execution_count": 144,
   "id": "dc5220b1",
   "metadata": {},
   "outputs": [
    {
     "data": {
      "text/html": [
       "<div>\n",
       "<style scoped>\n",
       "    .dataframe tbody tr th:only-of-type {\n",
       "        vertical-align: middle;\n",
       "    }\n",
       "\n",
       "    .dataframe tbody tr th {\n",
       "        vertical-align: top;\n",
       "    }\n",
       "\n",
       "    .dataframe thead th {\n",
       "        text-align: right;\n",
       "    }\n",
       "</style>\n",
       "<table border=\"1\" class=\"dataframe\">\n",
       "  <thead>\n",
       "    <tr style=\"text-align: right;\">\n",
       "      <th></th>\n",
       "      <th>employee_id</th>\n",
       "      <th>name</th>\n",
       "      <th>gender</th>\n",
       "      <th>dates_of_birth</th>\n",
       "      <th>email</th>\n",
       "      <th>phone_number</th>\n",
       "      <th>address</th>\n",
       "      <th>department</th>\n",
       "      <th>job_titles</th>\n",
       "      <th>manager_id</th>\n",
       "      <th>hire_date</th>\n",
       "      <th>salary</th>\n",
       "      <th>employment_status</th>\n",
       "      <th>employee_type</th>\n",
       "      <th>education_level</th>\n",
       "      <th>certifications</th>\n",
       "      <th>skills</th>\n",
       "      <th>performance_ratings</th>\n",
       "      <th>work_experience</th>\n",
       "      <th>benefits_enrollment</th>\n",
       "      <th>city</th>\n",
       "      <th>work_hours</th>\n",
       "      <th>employee_status</th>\n",
       "      <th>emergency_contacts</th>\n",
       "    </tr>\n",
       "  </thead>\n",
       "  <tbody>\n",
       "    <tr>\n",
       "      <th>0</th>\n",
       "      <td>6612</td>\n",
       "      <td>Martha Hutchinson</td>\n",
       "      <td>Male</td>\n",
       "      <td>1970-11-14</td>\n",
       "      <td>randy09@example.net</td>\n",
       "      <td>708-895-4293x86180</td>\n",
       "      <td>5301 Norman Flats Apt. 965\\r\\nNorth Darrell, P...</td>\n",
       "      <td>Finance</td>\n",
       "      <td>Administrator</td>\n",
       "      <td>10</td>\n",
       "      <td>2023-04-06</td>\n",
       "      <td>77367</td>\n",
       "      <td>Part-time</td>\n",
       "      <td>Regular</td>\n",
       "      <td>Master's Degree</td>\n",
       "      <td>team</td>\n",
       "      <td>senior, kitchen, president, call, station</td>\n",
       "      <td>3</td>\n",
       "      <td>Receive determine pass find. Authority laugh r...</td>\n",
       "      <td>data, cell, people</td>\n",
       "      <td>Hollandberg</td>\n",
       "      <td>9-5</td>\n",
       "      <td>Active</td>\n",
       "      <td>Alicia Payne: 001-469-835-3679x07176</td>\n",
       "    </tr>\n",
       "    <tr>\n",
       "      <th>1</th>\n",
       "      <td>4793</td>\n",
       "      <td>Meghan Cervantes</td>\n",
       "      <td>Non-Binary</td>\n",
       "      <td>1992-08-20</td>\n",
       "      <td>matthewsnyder@example.com</td>\n",
       "      <td>001-727-813-2133x30484</td>\n",
       "      <td>7917 Vincent Trafficway Apt. 254\\r\\nHallhaven,...</td>\n",
       "      <td>Finance</td>\n",
       "      <td>Mental health nurse</td>\n",
       "      <td>8</td>\n",
       "      <td>2022-05-26</td>\n",
       "      <td>81869</td>\n",
       "      <td>Full-time</td>\n",
       "      <td>Temporary</td>\n",
       "      <td>PhD</td>\n",
       "      <td>whether, some, measure</td>\n",
       "      <td>perhaps, knowledge, officer</td>\n",
       "      <td>4</td>\n",
       "      <td>Prevent meet bill computer upon keep receive. ...</td>\n",
       "      <td>appear, discover</td>\n",
       "      <td>East Sabrinafurt</td>\n",
       "      <td>9-5</td>\n",
       "      <td>Active</td>\n",
       "      <td>Brandy Lopez: +1-642-314-0561x6900</td>\n",
       "    </tr>\n",
       "    <tr>\n",
       "      <th>2</th>\n",
       "      <td>8832</td>\n",
       "      <td>April Hanna</td>\n",
       "      <td>Male</td>\n",
       "      <td>1986-04-17</td>\n",
       "      <td>lwood@example.net</td>\n",
       "      <td>+1-758-402-2437x248</td>\n",
       "      <td>646 Courtney Hollow\\r\\nSouth Marc, LA 67617</td>\n",
       "      <td>Finance</td>\n",
       "      <td>Field seismologist</td>\n",
       "      <td>6</td>\n",
       "      <td>2020-06-11</td>\n",
       "      <td>97907</td>\n",
       "      <td>Part-time</td>\n",
       "      <td>Temporary</td>\n",
       "      <td>PhD</td>\n",
       "      <td>job, week</td>\n",
       "      <td>tend, official, red</td>\n",
       "      <td>4</td>\n",
       "      <td>Necessary Congress real.</td>\n",
       "      <td>stop, woman</td>\n",
       "      <td>New Garyfurt</td>\n",
       "      <td>9-5</td>\n",
       "      <td>Active</td>\n",
       "      <td>Craig Rivera: 267.574.5240x08971</td>\n",
       "    </tr>\n",
       "    <tr>\n",
       "      <th>3</th>\n",
       "      <td>7044</td>\n",
       "      <td>George Yang</td>\n",
       "      <td>Non-Binary</td>\n",
       "      <td>2001-03-15</td>\n",
       "      <td>ellen93@example.net</td>\n",
       "      <td>001-682-318-3829x45513</td>\n",
       "      <td>3930 Kelly Wells Apt. 574\\r\\nPaulton, OR 22142</td>\n",
       "      <td>Engineering</td>\n",
       "      <td>Nurse, children's</td>\n",
       "      <td>5</td>\n",
       "      <td>2020-11-25</td>\n",
       "      <td>110034</td>\n",
       "      <td>Part-time</td>\n",
       "      <td>Regular</td>\n",
       "      <td>PhD</td>\n",
       "      <td>position, similar</td>\n",
       "      <td>question, their, health, single, whole</td>\n",
       "      <td>2</td>\n",
       "      <td>Yard whose different trade. Free foreign quest...</td>\n",
       "      <td>product, either</td>\n",
       "      <td>Christophermouth</td>\n",
       "      <td>12-8</td>\n",
       "      <td>On Leave</td>\n",
       "      <td>Lauren Davis: 423.534.7439</td>\n",
       "    </tr>\n",
       "    <tr>\n",
       "      <th>4</th>\n",
       "      <td>4498</td>\n",
       "      <td>Joseph Patrick</td>\n",
       "      <td>Male</td>\n",
       "      <td>1998-10-09</td>\n",
       "      <td>patriciacollins@example.net</td>\n",
       "      <td>001-790-812-0148x64174</td>\n",
       "      <td>0493 Lane Avenue\\r\\nSmithburgh, IN 65374</td>\n",
       "      <td>Engineering</td>\n",
       "      <td>Meteorologist</td>\n",
       "      <td>2</td>\n",
       "      <td>2021-01-12</td>\n",
       "      <td>70091</td>\n",
       "      <td>Contractor</td>\n",
       "      <td>Contract</td>\n",
       "      <td>Bachelor's Degree</td>\n",
       "      <td>table, seem</td>\n",
       "      <td>how, government, finally, east, strong</td>\n",
       "      <td>4</td>\n",
       "      <td>Agreement tax chair strategy bring kid assume ...</td>\n",
       "      <td>gas, commercial</td>\n",
       "      <td>South Jamestown</td>\n",
       "      <td>Night Shift</td>\n",
       "      <td>Terminated</td>\n",
       "      <td>Antonio Ferguson: +1-425-489-9331</td>\n",
       "    </tr>\n",
       "  </tbody>\n",
       "</table>\n",
       "</div>"
      ],
      "text/plain": [
       "   employee_id               name      gender dates_of_birth  \\\n",
       "0         6612  Martha Hutchinson        Male     1970-11-14   \n",
       "1         4793   Meghan Cervantes  Non-Binary     1992-08-20   \n",
       "2         8832        April Hanna        Male     1986-04-17   \n",
       "3         7044        George Yang  Non-Binary     2001-03-15   \n",
       "4         4498     Joseph Patrick        Male     1998-10-09   \n",
       "\n",
       "                         email            phone_number  \\\n",
       "0          randy09@example.net      708-895-4293x86180   \n",
       "1    matthewsnyder@example.com  001-727-813-2133x30484   \n",
       "2            lwood@example.net     +1-758-402-2437x248   \n",
       "3          ellen93@example.net  001-682-318-3829x45513   \n",
       "4  patriciacollins@example.net  001-790-812-0148x64174   \n",
       "\n",
       "                                             address   department  \\\n",
       "0  5301 Norman Flats Apt. 965\\r\\nNorth Darrell, P...      Finance   \n",
       "1  7917 Vincent Trafficway Apt. 254\\r\\nHallhaven,...      Finance   \n",
       "2        646 Courtney Hollow\\r\\nSouth Marc, LA 67617      Finance   \n",
       "3     3930 Kelly Wells Apt. 574\\r\\nPaulton, OR 22142  Engineering   \n",
       "4           0493 Lane Avenue\\r\\nSmithburgh, IN 65374  Engineering   \n",
       "\n",
       "            job_titles  manager_id   hire_date  salary employment_status  \\\n",
       "0        Administrator          10  2023-04-06   77367         Part-time   \n",
       "1  Mental health nurse           8  2022-05-26   81869         Full-time   \n",
       "2   Field seismologist           6  2020-06-11   97907         Part-time   \n",
       "3    Nurse, children's           5  2020-11-25  110034         Part-time   \n",
       "4        Meteorologist           2  2021-01-12   70091        Contractor   \n",
       "\n",
       "  employee_type    education_level          certifications  \\\n",
       "0       Regular    Master's Degree                    team   \n",
       "1     Temporary                PhD  whether, some, measure   \n",
       "2     Temporary                PhD               job, week   \n",
       "3       Regular                PhD       position, similar   \n",
       "4      Contract  Bachelor's Degree             table, seem   \n",
       "\n",
       "                                      skills  performance_ratings  \\\n",
       "0  senior, kitchen, president, call, station                    3   \n",
       "1                perhaps, knowledge, officer                    4   \n",
       "2                        tend, official, red                    4   \n",
       "3     question, their, health, single, whole                    2   \n",
       "4     how, government, finally, east, strong                    4   \n",
       "\n",
       "                                     work_experience benefits_enrollment  \\\n",
       "0  Receive determine pass find. Authority laugh r...  data, cell, people   \n",
       "1  Prevent meet bill computer upon keep receive. ...    appear, discover   \n",
       "2                           Necessary Congress real.         stop, woman   \n",
       "3  Yard whose different trade. Free foreign quest...     product, either   \n",
       "4  Agreement tax chair strategy bring kid assume ...     gas, commercial   \n",
       "\n",
       "               city   work_hours employee_status  \\\n",
       "0       Hollandberg          9-5          Active   \n",
       "1  East Sabrinafurt          9-5          Active   \n",
       "2      New Garyfurt          9-5          Active   \n",
       "3  Christophermouth         12-8        On Leave   \n",
       "4   South Jamestown  Night Shift      Terminated   \n",
       "\n",
       "                     emergency_contacts  \n",
       "0  Alicia Payne: 001-469-835-3679x07176  \n",
       "1    Brandy Lopez: +1-642-314-0561x6900  \n",
       "2      Craig Rivera: 267.574.5240x08971  \n",
       "3            Lauren Davis: 423.534.7439  \n",
       "4     Antonio Ferguson: +1-425-489-9331  "
      ]
     },
     "execution_count": 144,
     "metadata": {},
     "output_type": "execute_result"
    }
   ],
   "source": [
    "df = pd.read_csv(\"fake_employee.csv\")\n",
    "df.head()"
   ]
  },
  {
   "cell_type": "code",
   "execution_count": 145,
   "id": "e463850a",
   "metadata": {},
   "outputs": [
    {
     "name": "stdout",
     "output_type": "stream",
     "text": [
      "<class 'pandas.core.frame.DataFrame'>\n",
      "RangeIndex: 1000 entries, 0 to 999\n",
      "Data columns (total 24 columns):\n",
      " #   Column               Non-Null Count  Dtype \n",
      "---  ------               --------------  ----- \n",
      " 0   employee_id          1000 non-null   int64 \n",
      " 1   name                 1000 non-null   object\n",
      " 2   gender               1000 non-null   object\n",
      " 3   dates_of_birth       1000 non-null   object\n",
      " 4   email                1000 non-null   object\n",
      " 5   phone_number         1000 non-null   object\n",
      " 6   address              1000 non-null   object\n",
      " 7   department           1000 non-null   object\n",
      " 8   job_titles           1000 non-null   object\n",
      " 9   manager_id           1000 non-null   int64 \n",
      " 10  hire_date            1000 non-null   object\n",
      " 11  salary               1000 non-null   int64 \n",
      " 12  employment_status    1000 non-null   object\n",
      " 13  employee_type        1000 non-null   object\n",
      " 14  education_level      1000 non-null   object\n",
      " 15  certifications       1000 non-null   object\n",
      " 16  skills               1000 non-null   object\n",
      " 17  performance_ratings  1000 non-null   int64 \n",
      " 18  work_experience      1000 non-null   object\n",
      " 19  benefits_enrollment  1000 non-null   object\n",
      " 20  city                 1000 non-null   object\n",
      " 21  work_hours           1000 non-null   object\n",
      " 22  employee_status      1000 non-null   object\n",
      " 23  emergency_contacts   1000 non-null   object\n",
      "dtypes: int64(4), object(20)\n",
      "memory usage: 187.6+ KB\n"
     ]
    },
    {
     "data": {
      "text/html": [
       "<div>\n",
       "<style scoped>\n",
       "    .dataframe tbody tr th:only-of-type {\n",
       "        vertical-align: middle;\n",
       "    }\n",
       "\n",
       "    .dataframe tbody tr th {\n",
       "        vertical-align: top;\n",
       "    }\n",
       "\n",
       "    .dataframe thead th {\n",
       "        text-align: right;\n",
       "    }\n",
       "</style>\n",
       "<table border=\"1\" class=\"dataframe\">\n",
       "  <thead>\n",
       "    <tr style=\"text-align: right;\">\n",
       "      <th></th>\n",
       "      <th>employee_id</th>\n",
       "      <th>manager_id</th>\n",
       "      <th>salary</th>\n",
       "      <th>performance_ratings</th>\n",
       "    </tr>\n",
       "  </thead>\n",
       "  <tbody>\n",
       "    <tr>\n",
       "      <th>count</th>\n",
       "      <td>1000.000000</td>\n",
       "      <td>1000.000000</td>\n",
       "      <td>1000.000000</td>\n",
       "      <td>1000.000000</td>\n",
       "    </tr>\n",
       "    <tr>\n",
       "      <th>mean</th>\n",
       "      <td>5527.310000</td>\n",
       "      <td>5.454000</td>\n",
       "      <td>81531.299000</td>\n",
       "      <td>2.991000</td>\n",
       "    </tr>\n",
       "    <tr>\n",
       "      <th>std</th>\n",
       "      <td>2546.946895</td>\n",
       "      <td>2.837241</td>\n",
       "      <td>23216.141548</td>\n",
       "      <td>1.406021</td>\n",
       "    </tr>\n",
       "    <tr>\n",
       "      <th>min</th>\n",
       "      <td>1022.000000</td>\n",
       "      <td>1.000000</td>\n",
       "      <td>40027.000000</td>\n",
       "      <td>1.000000</td>\n",
       "    </tr>\n",
       "    <tr>\n",
       "      <th>25%</th>\n",
       "      <td>3351.500000</td>\n",
       "      <td>3.000000</td>\n",
       "      <td>61903.750000</td>\n",
       "      <td>2.000000</td>\n",
       "    </tr>\n",
       "    <tr>\n",
       "      <th>50%</th>\n",
       "      <td>5559.000000</td>\n",
       "      <td>5.000000</td>\n",
       "      <td>82902.000000</td>\n",
       "      <td>3.000000</td>\n",
       "    </tr>\n",
       "    <tr>\n",
       "      <th>75%</th>\n",
       "      <td>7732.750000</td>\n",
       "      <td>8.000000</td>\n",
       "      <td>101614.750000</td>\n",
       "      <td>4.000000</td>\n",
       "    </tr>\n",
       "    <tr>\n",
       "      <th>max</th>\n",
       "      <td>9995.000000</td>\n",
       "      <td>10.000000</td>\n",
       "      <td>119987.000000</td>\n",
       "      <td>5.000000</td>\n",
       "    </tr>\n",
       "  </tbody>\n",
       "</table>\n",
       "</div>"
      ],
      "text/plain": [
       "       employee_id   manager_id         salary  performance_ratings\n",
       "count  1000.000000  1000.000000    1000.000000          1000.000000\n",
       "mean   5527.310000     5.454000   81531.299000             2.991000\n",
       "std    2546.946895     2.837241   23216.141548             1.406021\n",
       "min    1022.000000     1.000000   40027.000000             1.000000\n",
       "25%    3351.500000     3.000000   61903.750000             2.000000\n",
       "50%    5559.000000     5.000000   82902.000000             3.000000\n",
       "75%    7732.750000     8.000000  101614.750000             4.000000\n",
       "max    9995.000000    10.000000  119987.000000             5.000000"
      ]
     },
     "execution_count": 145,
     "metadata": {},
     "output_type": "execute_result"
    }
   ],
   "source": [
    "df.info()\n",
    "df.describe()"
   ]
  },
  {
   "cell_type": "code",
   "execution_count": 146,
   "id": "286cbd43",
   "metadata": {},
   "outputs": [
    {
     "name": "stdout",
     "output_type": "stream",
     "text": [
      "employee_id            952\n",
      "name                   995\n",
      "email                  998\n",
      "phone_number          1000\n",
      "address               1000\n",
      "dates_of_birth         974\n",
      "skills                1000\n",
      "emergency_contacts    1000\n",
      "manager_id              10\n",
      "work_hours               3\n",
      "dtype: int64\n"
     ]
    }
   ],
   "source": [
    "cols_to_remove = [\n",
    "    'employee_id', 'name', 'email', 'phone_number', 'address',\n",
    "    'dates_of_birth', 'skills', 'emergency_contacts'\n",
    "]\n",
    "\n",
    "# Show unique value count before dropping\n",
    "print(df[cols_to_remove + ['manager_id', 'work_hours']].nunique())\n",
    "\n",
    "# Drop only non-useful columns\n",
    "df.drop([col for col in cols_to_remove if col in df.columns], axis=1, inplace=True)\n",
    "\n",
    "# Convert to string for categorical encoding later\n",
    "df['manager_id'] = df['manager_id'].astype(str)\n",
    "df['work_hours'] = df['work_hours'].astype(str)\n",
    "\n",
    "# Round salary to nearest 5000\n",
    "df['salary'] = (df['salary'] // 5000) * 5000\n",
    "\n",
    "# Keep a clean original version for comparison\n",
    "df_original = df.copy()\n"
   ]
  },
  {
   "cell_type": "markdown",
   "id": "fce50a19",
   "metadata": {},
   "source": [
    "# Functions"
   ]
  },
  {
   "cell_type": "code",
   "execution_count": 147,
   "id": "455d2e42",
   "metadata": {},
   "outputs": [],
   "source": [
    "def preprocess_for_ml(df):\n",
    "    y = df['salary']\n",
    "    X = df.drop(columns=['salary'])  # Drop the target column (target = salary)\n",
    "\n",
    "    # Replace '*' with np.nan and fill\n",
    "    X = X.replace('*', np.nan).fillna('Missing')\n",
    "\n",
    "    # Encode categorical variables using LabelEncoder\n",
    "    for col in X.select_dtypes(include='object').columns:\n",
    "        encoder = LabelEncoder()\n",
    "        X[col] = encoder.fit_transform(X[col].astype(str))\n",
    "\n",
    "    return X, y\n"
   ]
  },
  {
   "cell_type": "code",
   "execution_count": 148,
   "id": "5fdf4de6",
   "metadata": {},
   "outputs": [],
   "source": [
    "# Evaluation function to use in both original and anonymized datasets\n",
    "def evaluate_on_dataset(df, label=''):\n",
    "    X, y = preprocess_for_ml(df)\n",
    "    X_train, X_test, y_train, y_test = train_test_split(X, y, test_size=0.2, random_state=42)\n",
    "    model = RandomForestRegressor(random_state=42)\n",
    "    model.fit(X_train, y_train)\n",
    "    y_pred = model.predict(X_test)\n",
    "    mae = mean_absolute_error(y_test, y_pred)\n",
    "    r2 = r2_score(y_test, y_pred)\n",
    "    print(f\"✅ {label}: MAE = {mae:.2f} | R² = {r2:.4f}\")\n",
    "    return {'label': label, 'mae': mae, 'r2': r2}\n"
   ]
  },
  {
   "cell_type": "code",
   "execution_count": 149,
   "id": "76b46d9a",
   "metadata": {},
   "outputs": [],
   "source": [
    "\n",
    "# Function to train and evaluate models\n",
    "def train_and_evaluate(model, X_train, X_test, y_train, y_test, label=''):\n",
    "    model.fit(X_train, y_train)\n",
    "    y_pred = model.predict(X_test)\n",
    "    mae = mean_absolute_error(y_test, y_pred)\n",
    "    print(f\"Model ({label}) - MAE: {mae:.2f}\")\n",
    "    return mae\n"
   ]
  },
  {
   "cell_type": "code",
   "execution_count": 150,
   "id": "32915ad2",
   "metadata": {},
   "outputs": [],
   "source": [
    "\n",
    "# Training and evaluation function for all models\n",
    "def evaluate_models(X_train, X_test, y_train, y_test):\n",
    "    models = [\n",
    "        (RandomForestRegressor(random_state=42), \"Random Forest\"),\n",
    "        (LinearRegression(), \"Linear Regression\"),\n",
    "        (DecisionTreeRegressor(random_state=42), \"Decision Tree\"),\n",
    "        (GradientBoostingRegressor(random_state=42), \"Gradient Boosting\")\n",
    "    ]\n",
    "    \n",
    "    results = {}\n",
    "    for model, label in models:\n",
    "        mae = train_and_evaluate(model, X_train, X_test, y_train, y_test, label)\n",
    "        results[label] = mae\n",
    "\n",
    "    return results\n"
   ]
  },
  {
   "cell_type": "markdown",
   "id": "9e7b6ff5",
   "metadata": {},
   "source": [
    "# Pre-processing"
   ]
  },
  {
   "cell_type": "code",
   "execution_count": 151,
   "id": "cf64e451",
   "metadata": {},
   "outputs": [],
   "source": [
    "# Use the original dataset (with PII)\n",
    "df_original = df.copy()\n",
    "\n"
   ]
  },
  {
   "cell_type": "code",
   "execution_count": 152,
   "id": "7f93eec7",
   "metadata": {},
   "outputs": [
    {
     "data": {
      "text/html": [
       "<div>\n",
       "<style scoped>\n",
       "    .dataframe tbody tr th:only-of-type {\n",
       "        vertical-align: middle;\n",
       "    }\n",
       "\n",
       "    .dataframe tbody tr th {\n",
       "        vertical-align: top;\n",
       "    }\n",
       "\n",
       "    .dataframe thead th {\n",
       "        text-align: right;\n",
       "    }\n",
       "</style>\n",
       "<table border=\"1\" class=\"dataframe\">\n",
       "  <thead>\n",
       "    <tr style=\"text-align: right;\">\n",
       "      <th></th>\n",
       "      <th>salary</th>\n",
       "    </tr>\n",
       "  </thead>\n",
       "  <tbody>\n",
       "    <tr>\n",
       "      <th>0</th>\n",
       "      <td>75000</td>\n",
       "    </tr>\n",
       "    <tr>\n",
       "      <th>1</th>\n",
       "      <td>80000</td>\n",
       "    </tr>\n",
       "    <tr>\n",
       "      <th>2</th>\n",
       "      <td>95000</td>\n",
       "    </tr>\n",
       "    <tr>\n",
       "      <th>3</th>\n",
       "      <td>110000</td>\n",
       "    </tr>\n",
       "    <tr>\n",
       "      <th>4</th>\n",
       "      <td>70000</td>\n",
       "    </tr>\n",
       "  </tbody>\n",
       "</table>\n",
       "</div>"
      ],
      "text/plain": [
       "   salary\n",
       "0   75000\n",
       "1   80000\n",
       "2   95000\n",
       "3  110000\n",
       "4   70000"
      ]
     },
     "execution_count": 152,
     "metadata": {},
     "output_type": "execute_result"
    }
   ],
   "source": [
    "df[[\"salary\"]].head()"
   ]
  },
  {
   "cell_type": "code",
   "execution_count": 153,
   "id": "c0e1d0d2",
   "metadata": {},
   "outputs": [],
   "source": [
    "# Round salary to the nearest 5,000\n",
    "df['salary'] = (df['salary'] // 5000) * 5000\n"
   ]
  },
  {
   "cell_type": "code",
   "execution_count": 154,
   "id": "3b202df2",
   "metadata": {},
   "outputs": [
    {
     "data": {
      "text/html": [
       "<div>\n",
       "<style scoped>\n",
       "    .dataframe tbody tr th:only-of-type {\n",
       "        vertical-align: middle;\n",
       "    }\n",
       "\n",
       "    .dataframe tbody tr th {\n",
       "        vertical-align: top;\n",
       "    }\n",
       "\n",
       "    .dataframe thead th {\n",
       "        text-align: right;\n",
       "    }\n",
       "</style>\n",
       "<table border=\"1\" class=\"dataframe\">\n",
       "  <thead>\n",
       "    <tr style=\"text-align: right;\">\n",
       "      <th></th>\n",
       "      <th>salary</th>\n",
       "    </tr>\n",
       "  </thead>\n",
       "  <tbody>\n",
       "    <tr>\n",
       "      <th>0</th>\n",
       "      <td>75000</td>\n",
       "    </tr>\n",
       "    <tr>\n",
       "      <th>1</th>\n",
       "      <td>80000</td>\n",
       "    </tr>\n",
       "    <tr>\n",
       "      <th>2</th>\n",
       "      <td>95000</td>\n",
       "    </tr>\n",
       "    <tr>\n",
       "      <th>3</th>\n",
       "      <td>110000</td>\n",
       "    </tr>\n",
       "    <tr>\n",
       "      <th>4</th>\n",
       "      <td>70000</td>\n",
       "    </tr>\n",
       "  </tbody>\n",
       "</table>\n",
       "</div>"
      ],
      "text/plain": [
       "   salary\n",
       "0   75000\n",
       "1   80000\n",
       "2   95000\n",
       "3  110000\n",
       "4   70000"
      ]
     },
     "execution_count": 154,
     "metadata": {},
     "output_type": "execute_result"
    }
   ],
   "source": [
    "df[[\"salary\"]].head()"
   ]
  },
  {
   "cell_type": "markdown",
   "id": "3b6eb585",
   "metadata": {},
   "source": [
    "## Feature Engineering"
   ]
  },
  {
   "cell_type": "code",
   "execution_count": 155,
   "id": "85a8f1ff",
   "metadata": {},
   "outputs": [],
   "source": [
    "df['hire_date'] = pd.to_datetime(df['hire_date'], errors='coerce')\n",
    "df['years_experience'] = datetime.now().year - df['hire_date'].dt.year\n",
    "df['years_experience'] = df['years_experience'].fillna(df['years_experience'].median())"
   ]
  },
  {
   "cell_type": "code",
   "execution_count": 156,
   "id": "1d88f75b",
   "metadata": {},
   "outputs": [
    {
     "data": {
      "image/png": "[encoded data removed]",
      "text/plain": [
       "<Figure size 640x480 with 1 Axes>"
      ]
     },
     "metadata": {},
     "output_type": "display_data"
    }
   ],
   "source": [
    "# Create a countplot for the rounded salary (assuming 'rounded_salary_5000' is the column)\n",
    "sns.countplot(data=df, x='salary')\n",
    "plt.title('Distribution of Rounded Salary')\n",
    "plt.xlabel('Rounded Salary')\n",
    "plt.ylabel('Count')\n",
    "plt.xticks(rotation=45)\n",
    "plt.show()"
   ]
  },
  {
   "cell_type": "code",
   "execution_count": 157,
   "id": "c132b792",
   "metadata": {},
   "outputs": [
    {
     "name": "stdout",
     "output_type": "stream",
     "text": [
      "Model (Random Forest) - MAE: 19421.75\n",
      "Model (Linear Regression) - MAE: 18963.89\n",
      "Model (Decision Tree) - MAE: 25625.00\n",
      "Model (Gradient Boosting) - MAE: 19471.93\n",
      "✅ Anonymization for k=2:\n",
      " - Unique QID combinations: 75\n",
      " - Suppressed cells (NaN): 0 / 3000 (0.00%)\n",
      "Model (Random Forest) - MAE: 19323.75\n",
      "Model (Linear Regression) - MAE: 18955.11\n",
      "Model (Decision Tree) - MAE: 24200.00\n",
      "Model (Gradient Boosting) - MAE: 19923.26\n",
      "✅ Anonymization for k=5:\n",
      " - Unique QID combinations: 75\n",
      " - Suppressed cells (NaN): 0 / 3000 (0.00%)\n",
      "Model (Random Forest) - MAE: 19701.50\n",
      "Model (Linear Regression) - MAE: 18948.02\n",
      "Model (Decision Tree) - MAE: 27500.00\n",
      "Model (Gradient Boosting) - MAE: 20107.94\n",
      "✅ Anonymization for k=10:\n",
      " - Unique QID combinations: 25\n",
      " - Suppressed cells (NaN): 1000 / 3000 (33.33%)\n",
      "Model (Random Forest) - MAE: 19199.50\n",
      "Model (Linear Regression) - MAE: 18880.45\n",
      "Model (Decision Tree) - MAE: 26725.00\n",
      "Model (Gradient Boosting) - MAE: 19723.92\n",
      "✅ Anonymization for k=15:\n",
      " - Unique QID combinations: 25\n",
      " - Suppressed cells (NaN): 1000 / 3000 (33.33%)\n",
      "Model (Random Forest) - MAE: 19199.50\n",
      "Model (Linear Regression) - MAE: 18880.45\n",
      "Model (Decision Tree) - MAE: 26725.00\n",
      "Model (Gradient Boosting) - MAE: 19723.92\n",
      "✅ Anonymization for k=20:\n",
      " - Unique QID combinations: 25\n",
      " - Suppressed cells (NaN): 1000 / 3000 (33.33%)\n",
      "Model (Random Forest) - MAE: 19199.50\n",
      "Model (Linear Regression) - MAE: 18880.45\n",
      "Model (Decision Tree) - MAE: 26725.00\n",
      "Model (Gradient Boosting) - MAE: 19723.92\n"
     ]
    }
   ],
   "source": [
    "# Evaluate on original + anonymized datasets\n",
    "all_results = []\n",
    "\n",
    "for k in [0, 2, 5, 10, 15, 20]:\n",
    "    if k == 0:\n",
    "        df_k = df_original.copy()\n",
    "        label = \"Original\"\n",
    "    else:\n",
    "        df_k = apply_k_anonymity(df_original.copy(), k)\n",
    "        label = f\"k={k}\"\n",
    "    X, y = preprocess_for_ml(df_k)\n",
    "    X_train, X_test, y_train, y_test = train_test_split(X, y, test_size=0.2, random_state=42)\n",
    "    model_maes = evaluate_models(X_train, X_test, y_train, y_test)\n",
    "    for model_name, mae in model_maes.items():\n",
    "        all_results.append({'k': k, 'label': label, 'model': model_name, 'mae': mae})\n",
    "\n",
    "results_df = pd.DataFrame(all_results)\n"
   ]
  },
  {
   "cell_type": "code",
   "execution_count": 158,
   "id": "e35b56a4",
   "metadata": {},
   "outputs": [
    {
     "data": {
      "image/png": "[encoded data removed]",
      "text/plain": [
       "<Figure size 1000x600 with 1 Axes>"
      ]
     },
     "metadata": {},
     "output_type": "display_data"
    }
   ],
   "source": [
    "plt.figure(figsize=(10, 6))\n",
    "for model in results_df['model'].unique():\n",
    "    subset = results_df[results_df['model'] == model]\n",
    "    plt.plot(subset['label'], subset['mae'], marker='o', label=model)\n",
    "plt.title('MAE dos Modelos vs k-anonymity')\n",
    "plt.xlabel('Dataset')\n",
    "plt.ylabel('MAE')\n",
    "plt.legend()\n",
    "plt.grid(True)\n",
    "plt.tight_layout()\n",
    "plt.show()"
   ]
  },
  {
   "cell_type": "markdown",
   "id": "8887e684",
   "metadata": {},
   "source": [
    "# K-1 Anonymity"
   ]
  },
  {
   "cell_type": "code",
   "execution_count": 159,
   "id": "70edd129",
   "metadata": {},
   "outputs": [],
   "source": [
    "def apply_k_anonymity(df, k):\n",
    "    df = df.copy()\n",
    "    \n",
    "    # Define quasi-identifiers\n",
    "    QIDs = ['gender', 'department', 'education_level']\n",
    "    \n",
    "    # Generalization based on k level\n",
    "    def generalize(row):\n",
    "        # Gender\n",
    "        if k >= 5 and isinstance(row['gender'], str):\n",
    "            row['gender'] = row['gender'][0]  # Só a inicial\n",
    "        # City\n",
    "        if k >= 10 and isinstance(row['city'], str):\n",
    "            row['city'] = row['city'][:2]    # Só as 2 primeiras letras\n",
    "        elif k >= 5 and isinstance(row['city'], str):\n",
    "            row['city'] = row['city'][:3]    # Só as 3 primeiras letras\n",
    "        # Department\n",
    "        if k >= 5 and isinstance(row['department'], str):\n",
    "            if any(x in row['department'] for x in ['IT', 'Tech', 'Developer']):\n",
    "                row['department'] = 'Tech'\n",
    "            elif any(x in row['department'] for x in ['HR', 'Admin']):\n",
    "                row['department'] = 'Admin'\n",
    "            else:\n",
    "                row['department'] = 'Other'\n",
    "        # Job Titles\n",
    "        if k >= 10 and isinstance(row['job_titles'], str):\n",
    "            row['job_titles'] = \" \".join(row['job_titles'].split()[:1])\n",
    "        elif k >= 5 and isinstance(row['job_titles'], str):\n",
    "            row['job_titles'] = \" \".join(row['job_titles'].split()[:2])\n",
    "        # Hire Date\n",
    "        try:\n",
    "            parsed_date = pd.to_datetime(row['hire_date'], errors='coerce')\n",
    "            if pd.isna(parsed_date):\n",
    "                row['hire_date'] = 'Missing'\n",
    "            elif k >= 10:\n",
    "                row['hire_date'] = parsed_date.year // 10 * 10  # Década\n",
    "            elif k >= 5:\n",
    "                row['hire_date'] = parsed_date.year\n",
    "            elif k >= 2:\n",
    "                row['hire_date'] = parsed_date.strftime('%Y-%m')\n",
    "        except:\n",
    "            row['hire_date'] = 'Missing'\n",
    "        return row\n",
    "\n",
    "    df = df.apply(generalize, axis=1)\n",
    "    # Group by QIDs and get group sizes\n",
    "    group_sizes = df.groupby(QIDs).size().reset_index(name='counts')\n",
    "\n",
    "    # Identify groups with fewer than k\n",
    "    small_groups = group_sizes[group_sizes['counts'] < k]\n",
    "\n",
    "    # Suppression for small groups\n",
    "    def suppress(row):\n",
    "        is_small = ((small_groups[QIDs] == row[QIDs]).all(axis=1)).any()\n",
    "        if is_small:\n",
    "            for col in QIDs:\n",
    "                row[col] = np.nan\n",
    "        return row\n",
    "\n",
    "    # Apply suppression\n",
    "    df = df.apply(suppress, axis=1)\n",
    "\n",
    "    # Contagem realista de células anonimizadas\n",
    "    total_qid_cells = df[QIDs].size\n",
    "    suppressed_cells = df[QIDs].isna().sum().sum()\n",
    "    percent = (suppressed_cells / total_qid_cells) * 100\n",
    "\n",
    "    print(f\"✅ Anonymization for k={k}:\")\n",
    "    print(f\" - Unique QID combinations: {df[QIDs].drop_duplicates().shape[0]}\")\n",
    "    print(f\" - Suppressed cells (NaN): {suppressed_cells} / {total_qid_cells} ({percent:.2f}%)\")\n",
    "\n",
    "    return df\n"
   ]
  },
  {
   "cell_type": "code",
   "execution_count": 160,
   "id": "8d0d0916",
   "metadata": {},
   "outputs": [
    {
     "data": {
      "text/html": [
       "<div>\n",
       "<style scoped>\n",
       "    .dataframe tbody tr th:only-of-type {\n",
       "        vertical-align: middle;\n",
       "    }\n",
       "\n",
       "    .dataframe tbody tr th {\n",
       "        vertical-align: top;\n",
       "    }\n",
       "\n",
       "    .dataframe thead th {\n",
       "        text-align: right;\n",
       "    }\n",
       "</style>\n",
       "<table border=\"1\" class=\"dataframe\">\n",
       "  <thead>\n",
       "    <tr style=\"text-align: right;\">\n",
       "      <th></th>\n",
       "      <th>salary</th>\n",
       "    </tr>\n",
       "  </thead>\n",
       "  <tbody>\n",
       "    <tr>\n",
       "      <th>0</th>\n",
       "      <td>75000</td>\n",
       "    </tr>\n",
       "    <tr>\n",
       "      <th>1</th>\n",
       "      <td>80000</td>\n",
       "    </tr>\n",
       "    <tr>\n",
       "      <th>2</th>\n",
       "      <td>95000</td>\n",
       "    </tr>\n",
       "    <tr>\n",
       "      <th>3</th>\n",
       "      <td>110000</td>\n",
       "    </tr>\n",
       "    <tr>\n",
       "      <th>4</th>\n",
       "      <td>70000</td>\n",
       "    </tr>\n",
       "    <tr>\n",
       "      <th>...</th>\n",
       "      <td>...</td>\n",
       "    </tr>\n",
       "    <tr>\n",
       "      <th>995</th>\n",
       "      <td>85000</td>\n",
       "    </tr>\n",
       "    <tr>\n",
       "      <th>996</th>\n",
       "      <td>105000</td>\n",
       "    </tr>\n",
       "    <tr>\n",
       "      <th>997</th>\n",
       "      <td>70000</td>\n",
       "    </tr>\n",
       "    <tr>\n",
       "      <th>998</th>\n",
       "      <td>45000</td>\n",
       "    </tr>\n",
       "    <tr>\n",
       "      <th>999</th>\n",
       "      <td>60000</td>\n",
       "    </tr>\n",
       "  </tbody>\n",
       "</table>\n",
       "<p>1000 rows × 1 columns</p>\n",
       "</div>"
      ],
      "text/plain": [
       "     salary\n",
       "0     75000\n",
       "1     80000\n",
       "2     95000\n",
       "3    110000\n",
       "4     70000\n",
       "..      ...\n",
       "995   85000\n",
       "996  105000\n",
       "997   70000\n",
       "998   45000\n",
       "999   60000\n",
       "\n",
       "[1000 rows x 1 columns]"
      ]
     },
     "execution_count": 160,
     "metadata": {},
     "output_type": "execute_result"
    }
   ],
   "source": [
    "df[[\"salary\"]]"
   ]
  },
  {
   "cell_type": "code",
   "execution_count": 161,
   "id": "7311d5d8",
   "metadata": {},
   "outputs": [
    {
     "name": "stdout",
     "output_type": "stream",
     "text": [
      "gender: 3 unique values\n",
      "department: 5 unique values\n",
      "education_level: 5 unique values\n"
     ]
    }
   ],
   "source": [
    "# Check how many unique values exist in each QID column\n",
    "qid_check_cols = ['gender', 'department', 'education_level']\n",
    "for col in qid_check_cols:\n",
    "    print(f\"{col}: {df[col].nunique()} unique values\")\n"
   ]
  },
  {
   "cell_type": "markdown",
   "id": "3913a6a6",
   "metadata": {},
   "source": [
    "## K=2"
   ]
  },
  {
   "cell_type": "code",
   "execution_count": 162,
   "id": "be1be80d",
   "metadata": {},
   "outputs": [
    {
     "name": "stdout",
     "output_type": "stream",
     "text": [
      "✅ Anonymization for k=2:\n",
      " - Unique QID combinations: 75\n",
      " - Suppressed cells (NaN): 0 / 3000 (0.00%)\n",
      "Model (Random Forest) - MAE: 19366.50\n",
      "Model (Linear Regression) - MAE: 18978.24\n",
      "Model (Decision Tree) - MAE: 24925.00\n",
      "Model (Gradient Boosting) - MAE: 19570.73\n"
     ]
    }
   ],
   "source": [
    "k = 2\n",
    "df_anonymous = apply_k_anonymity(df, k)\n",
    "\n",
    "X_processed, y_processed = preprocess_for_ml(df_anonymous)\n",
    "\n",
    "X_train, X_test, y_train, y_test = train_test_split(X_processed, y_processed, test_size=0.2, random_state=42)\n",
    "\n",
    "model_results_k2 = evaluate_models(X_train, X_test, y_train, y_test)\n"
   ]
  },
  {
   "cell_type": "code",
   "execution_count": 163,
   "id": "6b3ab7e6",
   "metadata": {},
   "outputs": [
    {
     "data": {
      "text/html": [
       "<div>\n",
       "<style scoped>\n",
       "    .dataframe tbody tr th:only-of-type {\n",
       "        vertical-align: middle;\n",
       "    }\n",
       "\n",
       "    .dataframe tbody tr th {\n",
       "        vertical-align: top;\n",
       "    }\n",
       "\n",
       "    .dataframe thead th {\n",
       "        text-align: right;\n",
       "    }\n",
       "</style>\n",
       "<table border=\"1\" class=\"dataframe\">\n",
       "  <thead>\n",
       "    <tr style=\"text-align: right;\">\n",
       "      <th></th>\n",
       "      <th>gender</th>\n",
       "      <th>department</th>\n",
       "      <th>education_level</th>\n",
       "    </tr>\n",
       "  </thead>\n",
       "  <tbody>\n",
       "    <tr>\n",
       "      <th>0</th>\n",
       "      <td>Male</td>\n",
       "      <td>Finance</td>\n",
       "      <td>Master's Degree</td>\n",
       "    </tr>\n",
       "    <tr>\n",
       "      <th>1</th>\n",
       "      <td>Non-Binary</td>\n",
       "      <td>Finance</td>\n",
       "      <td>PhD</td>\n",
       "    </tr>\n",
       "    <tr>\n",
       "      <th>2</th>\n",
       "      <td>Male</td>\n",
       "      <td>Finance</td>\n",
       "      <td>PhD</td>\n",
       "    </tr>\n",
       "    <tr>\n",
       "      <th>3</th>\n",
       "      <td>Non-Binary</td>\n",
       "      <td>Engineering</td>\n",
       "      <td>PhD</td>\n",
       "    </tr>\n",
       "    <tr>\n",
       "      <th>4</th>\n",
       "      <td>Male</td>\n",
       "      <td>Engineering</td>\n",
       "      <td>Bachelor's Degree</td>\n",
       "    </tr>\n",
       "  </tbody>\n",
       "</table>\n",
       "</div>"
      ],
      "text/plain": [
       "       gender   department    education_level\n",
       "0        Male      Finance    Master's Degree\n",
       "1  Non-Binary      Finance                PhD\n",
       "2        Male      Finance                PhD\n",
       "3  Non-Binary  Engineering                PhD\n",
       "4        Male  Engineering  Bachelor's Degree"
      ]
     },
     "execution_count": 163,
     "metadata": {},
     "output_type": "execute_result"
    }
   ],
   "source": [
    "# Preview of the anonymized QID columns\n",
    "df_anonymous[['gender', 'department', 'education_level']].head()\n"
   ]
  },
  {
   "cell_type": "markdown",
   "id": "7fb5ac8c",
   "metadata": {},
   "source": [
    "## K=5"
   ]
  },
  {
   "cell_type": "code",
   "execution_count": 164,
   "id": "3b0edc52",
   "metadata": {},
   "outputs": [
    {
     "name": "stdout",
     "output_type": "stream",
     "text": [
      "✅ Anonymization for k=5:\n",
      " - Unique QID combinations: 45\n",
      " - Suppressed cells (NaN): 0 / 3000 (0.00%)\n",
      "Model (Random Forest) - MAE: 19650.25\n",
      "Model (Linear Regression) - MAE: 18913.83\n",
      "Model (Decision Tree) - MAE: 24900.00\n",
      "Model (Gradient Boosting) - MAE: 19718.88\n"
     ]
    }
   ],
   "source": [
    "\n",
    "k = 5\n",
    "df_anonymous = apply_k_anonymity(df, k)\n",
    "\n",
    "X_processed, y_processed = preprocess_for_ml(df_anonymous)\n",
    "\n",
    "X_train, X_test, y_train, y_test = train_test_split(X_processed, y_processed, test_size=0.2, random_state=42)\n",
    "\n",
    "model_results_k5 = evaluate_models(X_train, X_test, y_train, y_test)\n"
   ]
  },
  {
   "cell_type": "markdown",
   "id": "311dde9a",
   "metadata": {},
   "source": [
    "## K=10"
   ]
  },
  {
   "cell_type": "code",
   "execution_count": 165,
   "id": "d8f52c1c",
   "metadata": {},
   "outputs": [
    {
     "name": "stdout",
     "output_type": "stream",
     "text": [
      "✅ Anonymization for k=10:\n",
      " - Unique QID combinations: 44\n",
      " - Suppressed cells (NaN): 48 / 3000 (1.60%)\n",
      "Model (Random Forest) - MAE: 19406.75\n",
      "Model (Linear Regression) - MAE: 18962.75\n",
      "Model (Decision Tree) - MAE: 24850.00\n",
      "Model (Gradient Boosting) - MAE: 19993.02\n"
     ]
    }
   ],
   "source": [
    "k = 10\n",
    "df_anonymous = apply_k_anonymity(df, k)\n",
    "\n",
    "X_processed, y_processed = preprocess_for_ml(df_anonymous)\n",
    "\n",
    "X_train, X_test, y_train, y_test = train_test_split(X_processed, y_processed, test_size=0.2, random_state=42)\n",
    "\n",
    "model_results_k10 = evaluate_models(X_train, X_test, y_train, y_test)\n"
   ]
  },
  {
   "cell_type": "markdown",
   "id": "a3d366da",
   "metadata": {},
   "source": [
    "## K=15"
   ]
  },
  {
   "cell_type": "code",
   "execution_count": 166,
   "id": "049f3919",
   "metadata": {},
   "outputs": [
    {
     "name": "stdout",
     "output_type": "stream",
     "text": [
      "✅ Anonymization for k=15:\n",
      " - Unique QID combinations: 22\n",
      " - Suppressed cells (NaN): 858 / 3000 (28.60%)\n",
      "Model (Random Forest) - MAE: 19345.25\n",
      "Model (Linear Regression) - MAE: 18971.18\n",
      "Model (Decision Tree) - MAE: 24525.00\n",
      "Model (Gradient Boosting) - MAE: 19603.73\n"
     ]
    }
   ],
   "source": [
    "k = 15\n",
    "df_anonymous = apply_k_anonymity(df, k)\n",
    "\n",
    "X_processed, y_processed = preprocess_for_ml(df_anonymous)\n",
    "\n",
    "X_train, X_test, y_train, y_test = train_test_split(X_processed, y_processed, test_size=0.2, random_state=42)\n",
    "\n",
    "model_results_k15 = evaluate_models(X_train, X_test, y_train, y_test)\n"
   ]
  },
  {
   "cell_type": "markdown",
   "id": "62e2505b",
   "metadata": {},
   "source": [
    "## K=20"
   ]
  },
  {
   "cell_type": "code",
   "execution_count": 167,
   "id": "505dd14b",
   "metadata": {},
   "outputs": [
    {
     "name": "stdout",
     "output_type": "stream",
     "text": [
      "✅ Anonymization for k=20:\n",
      " - Unique QID combinations: 16\n",
      " - Suppressed cells (NaN): 1152 / 3000 (38.40%)\n",
      "Model (Random Forest) - MAE: 19038.50\n",
      "Model (Linear Regression) - MAE: 18897.28\n",
      "Model (Decision Tree) - MAE: 22675.00\n",
      "Model (Gradient Boosting) - MAE: 19984.50\n"
     ]
    }
   ],
   "source": [
    "k = 20\n",
    "df_anonymous = apply_k_anonymity(df, k)\n",
    "\n",
    "X_processed, y_processed = preprocess_for_ml(df_anonymous)\n",
    "\n",
    "X_train, X_test, y_train, y_test = train_test_split(X_processed, y_processed, test_size=0.2, random_state=42)\n",
    "\n",
    "model_results_k20 = evaluate_models(X_train, X_test, y_train, y_test)\n"
   ]
  },
  {
   "cell_type": "markdown",
   "id": "fad08c99",
   "metadata": {},
   "source": [
    "# Attempt to preview salary on the anonymized dataset"
   ]
  },
  {
   "cell_type": "code",
   "execution_count": 168,
   "id": "260ce50e",
   "metadata": {},
   "outputs": [],
   "source": [
    "# Keep a clean reference to the original salaries\n",
    "original_salaries = df['salary'].copy()"
   ]
  },
  {
   "cell_type": "markdown",
   "id": "39bf6643",
   "metadata": {},
   "source": [
    "## Applying the k-anonymity to the dataset"
   ]
  },
  {
   "cell_type": "code",
   "execution_count": 169,
   "id": "bc99e473",
   "metadata": {},
   "outputs": [
    {
     "name": "stdout",
     "output_type": "stream",
     "text": [
      "✅ Anonymization for k=2:\n",
      " - Unique QID combinations: 75\n",
      " - Suppressed cells (NaN): 0 / 3000 (0.00%)\n"
     ]
    }
   ],
   "source": [
    "k = 2 # or any k you want to test\n",
    "df_anonymous = apply_k_anonymity(df.copy(), k)\n"
   ]
  },
  {
   "cell_type": "markdown",
   "id": "8d3e1c40",
   "metadata": {},
   "source": [
    "## Preprocessing to train"
   ]
  },
  {
   "cell_type": "code",
   "execution_count": 170,
   "id": "0eefa340",
   "metadata": {},
   "outputs": [
    {
     "name": "stdout",
     "output_type": "stream",
     "text": [
      "🔍 Salary prediction on anonymized data (k=2)\n",
      " - MAE: 19366.50\n",
      " - R² Score: -0.0252\n"
     ]
    }
   ],
   "source": [
    "X_processed, _ = preprocess_for_ml(df_anonymous)  \n",
    "y_true = original_salaries  \n",
    "\n",
    "# Split\n",
    "X_train, X_test, y_train, y_test = train_test_split(X_processed, y_true, test_size=0.2, random_state=42)\n",
    "\n",
    "# Train a model\n",
    "model = RandomForestRegressor(random_state=42)\n",
    "model.fit(X_train, y_train)\n",
    "\n",
    "# Predict\n",
    "y_pred = model.predict(X_test)\n",
    "\n",
    "# Evaluate\n",
    "mae = mean_absolute_error(y_test, y_pred)\n",
    "r2 = r2_score(y_test, y_pred)\n",
    "\n",
    "print(f\"🔍 Salary prediction on anonymized data (k={k})\")\n",
    "print(f\" - MAE: {mae:.2f}\")\n",
    "print(f\" - R² Score: {r2:.4f}\")\n"
   ]
  },
  {
   "cell_type": "markdown",
   "id": "9c3aa7fd",
   "metadata": {},
   "source": [
    "## Results interpretation"
   ]
  },
  {
   "cell_type": "code",
   "execution_count": 171,
   "id": "79045251",
   "metadata": {},
   "outputs": [
    {
     "data": {
      "image/png": "[encoded data removed]",
      "text/plain": [
       "<Figure size 800x500 with 1 Axes>"
      ]
     },
     "metadata": {},
     "output_type": "display_data"
    }
   ],
   "source": [
    "# Create the comparison DataFrame\n",
    "comparison = pd.DataFrame({\n",
    "    'Actual Salary': y_test.reset_index(drop=True),\n",
    "    'Predicted Salary': y_pred\n",
    "})\n",
    "\n",
    "comparison_sample = comparison.head(20)\n",
    "\n",
    "# Plot\n",
    "plt.figure(figsize=(8, 5))\n",
    "plt.plot(comparison_sample.index, comparison_sample['Actual Salary'], label='Actual Salary', marker='o')\n",
    "plt.plot(comparison_sample.index, comparison_sample['Predicted Salary'], label='Predicted Salary', marker='x')\n",
    "plt.title('Actual vs Predicted Salary (First 20 Samples)')\n",
    "plt.xlabel('Sample Index')\n",
    "plt.ylabel('Salary')\n",
    "plt.xticks(comparison_sample.index)\n",
    "plt.legend()\n",
    "plt.grid(True)\n",
    "plt.tight_layout()\n",
    "plt.show()"
   ]
  },
  {
   "cell_type": "markdown",
   "id": "75c81671",
   "metadata": {},
   "source": [
    "## Classification prevent"
   ]
  }
 ],
 "metadata": {
  "kernelspec": {
   "display_name": "base",
   "language": "python",
   "name": "python3"
  },
  "language_info": {
   "codemirror_mode": {
    "name": "ipython",
    "version": 3
   },
   "file_extension": ".py",
   "mimetype": "text/x-python",
   "name": "python",
   "nbconvert_exporter": "python",
   "pygments_lexer": "ipython3",
   "version": "3.12.4"
  }
 },
 "nbformat": 4,
 "nbformat_minor": 5
}
