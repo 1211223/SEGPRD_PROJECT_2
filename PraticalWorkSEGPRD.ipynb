{
 "cells": [
  {
   "cell_type": "markdown",
   "id": "5b4d9635",
   "metadata": {},
   "source": [
    "# Libraries"
   ]
  },
  {
   "cell_type": "code",
   "execution_count": 79,
   "id": "6b57e987",
   "metadata": {},
   "outputs": [],
   "source": [
    "import pandas as pd\n",
    "from datetime import datetime\n",
    "import hashlib\n",
    "import numpy as np\n",
    "import re\n",
    "from sklearn.model_selection import train_test_split\n",
    "from sklearn.preprocessing import LabelEncoder\n",
    "\n",
    "from sklearn.linear_model import LinearRegression\n",
    "from sklearn.tree import DecisionTreeRegressor\n",
    "from sklearn.ensemble import RandomForestRegressor, GradientBoostingRegressor\n",
    "from sklearn.metrics import mean_absolute_error, r2_score\n",
    "from sklearn.model_selection import GridSearchCV, cross_val_score\n",
    "import seaborn as sns\n",
    "import matplotlib.pyplot as plt"
   ]
  },
  {
   "cell_type": "code",
   "execution_count": 80,
   "id": "b4eeebc0",
   "metadata": {},
   "outputs": [
    {
     "data": {
      "text/html": [
       "<div>\n",
       "<style scoped>\n",
       "    .dataframe tbody tr th:only-of-type {\n",
       "        vertical-align: middle;\n",
       "    }\n",
       "\n",
       "    .dataframe tbody tr th {\n",
       "        vertical-align: top;\n",
       "    }\n",
       "\n",
       "    .dataframe thead th {\n",
       "        text-align: right;\n",
       "    }\n",
       "</style>\n",
       "<table border=\"1\" class=\"dataframe\">\n",
       "  <thead>\n",
       "    <tr style=\"text-align: right;\">\n",
       "      <th></th>\n",
       "      <th>employee_id</th>\n",
       "      <th>name</th>\n",
       "      <th>gender</th>\n",
       "      <th>dates_of_birth</th>\n",
       "      <th>email</th>\n",
       "      <th>phone_number</th>\n",
       "      <th>address</th>\n",
       "      <th>department</th>\n",
       "      <th>job_titles</th>\n",
       "      <th>manager_id</th>\n",
       "      <th>hire_date</th>\n",
       "      <th>salary</th>\n",
       "      <th>employment_status</th>\n",
       "      <th>employee_type</th>\n",
       "      <th>education_level</th>\n",
       "      <th>certifications</th>\n",
       "      <th>skills</th>\n",
       "      <th>performance_ratings</th>\n",
       "      <th>work_experience</th>\n",
       "      <th>benefits_enrollment</th>\n",
       "      <th>city</th>\n",
       "      <th>work_hours</th>\n",
       "      <th>employee_status</th>\n",
       "      <th>emergency_contacts</th>\n",
       "    </tr>\n",
       "  </thead>\n",
       "  <tbody>\n",
       "    <tr>\n",
       "      <th>0</th>\n",
       "      <td>6612</td>\n",
       "      <td>Martha Hutchinson</td>\n",
       "      <td>Male</td>\n",
       "      <td>1970-11-14</td>\n",
       "      <td>randy09@example.net</td>\n",
       "      <td>708-895-4293x86180</td>\n",
       "      <td>5301 Norman Flats Apt. 965\\r\\nNorth Darrell, P...</td>\n",
       "      <td>Finance</td>\n",
       "      <td>Administrator</td>\n",
       "      <td>10</td>\n",
       "      <td>2023-04-06</td>\n",
       "      <td>77367</td>\n",
       "      <td>Part-time</td>\n",
       "      <td>Regular</td>\n",
       "      <td>Master's Degree</td>\n",
       "      <td>team</td>\n",
       "      <td>senior, kitchen, president, call, station</td>\n",
       "      <td>3</td>\n",
       "      <td>Receive determine pass find. Authority laugh r...</td>\n",
       "      <td>data, cell, people</td>\n",
       "      <td>Hollandberg</td>\n",
       "      <td>9-5</td>\n",
       "      <td>Active</td>\n",
       "      <td>Alicia Payne: 001-469-835-3679x07176</td>\n",
       "    </tr>\n",
       "    <tr>\n",
       "      <th>1</th>\n",
       "      <td>4793</td>\n",
       "      <td>Meghan Cervantes</td>\n",
       "      <td>Non-Binary</td>\n",
       "      <td>1992-08-20</td>\n",
       "      <td>matthewsnyder@example.com</td>\n",
       "      <td>001-727-813-2133x30484</td>\n",
       "      <td>7917 Vincent Trafficway Apt. 254\\r\\nHallhaven,...</td>\n",
       "      <td>Finance</td>\n",
       "      <td>Mental health nurse</td>\n",
       "      <td>8</td>\n",
       "      <td>2022-05-26</td>\n",
       "      <td>81869</td>\n",
       "      <td>Full-time</td>\n",
       "      <td>Temporary</td>\n",
       "      <td>PhD</td>\n",
       "      <td>whether, some, measure</td>\n",
       "      <td>perhaps, knowledge, officer</td>\n",
       "      <td>4</td>\n",
       "      <td>Prevent meet bill computer upon keep receive. ...</td>\n",
       "      <td>appear, discover</td>\n",
       "      <td>East Sabrinafurt</td>\n",
       "      <td>9-5</td>\n",
       "      <td>Active</td>\n",
       "      <td>Brandy Lopez: +1-642-314-0561x6900</td>\n",
       "    </tr>\n",
       "    <tr>\n",
       "      <th>2</th>\n",
       "      <td>8832</td>\n",
       "      <td>April Hanna</td>\n",
       "      <td>Male</td>\n",
       "      <td>1986-04-17</td>\n",
       "      <td>lwood@example.net</td>\n",
       "      <td>+1-758-402-2437x248</td>\n",
       "      <td>646 Courtney Hollow\\r\\nSouth Marc, LA 67617</td>\n",
       "      <td>Finance</td>\n",
       "      <td>Field seismologist</td>\n",
       "      <td>6</td>\n",
       "      <td>2020-06-11</td>\n",
       "      <td>97907</td>\n",
       "      <td>Part-time</td>\n",
       "      <td>Temporary</td>\n",
       "      <td>PhD</td>\n",
       "      <td>job, week</td>\n",
       "      <td>tend, official, red</td>\n",
       "      <td>4</td>\n",
       "      <td>Necessary Congress real.</td>\n",
       "      <td>stop, woman</td>\n",
       "      <td>New Garyfurt</td>\n",
       "      <td>9-5</td>\n",
       "      <td>Active</td>\n",
       "      <td>Craig Rivera: 267.574.5240x08971</td>\n",
       "    </tr>\n",
       "    <tr>\n",
       "      <th>3</th>\n",
       "      <td>7044</td>\n",
       "      <td>George Yang</td>\n",
       "      <td>Non-Binary</td>\n",
       "      <td>2001-03-15</td>\n",
       "      <td>ellen93@example.net</td>\n",
       "      <td>001-682-318-3829x45513</td>\n",
       "      <td>3930 Kelly Wells Apt. 574\\r\\nPaulton, OR 22142</td>\n",
       "      <td>Engineering</td>\n",
       "      <td>Nurse, children's</td>\n",
       "      <td>5</td>\n",
       "      <td>2020-11-25</td>\n",
       "      <td>110034</td>\n",
       "      <td>Part-time</td>\n",
       "      <td>Regular</td>\n",
       "      <td>PhD</td>\n",
       "      <td>position, similar</td>\n",
       "      <td>question, their, health, single, whole</td>\n",
       "      <td>2</td>\n",
       "      <td>Yard whose different trade. Free foreign quest...</td>\n",
       "      <td>product, either</td>\n",
       "      <td>Christophermouth</td>\n",
       "      <td>12-8</td>\n",
       "      <td>On Leave</td>\n",
       "      <td>Lauren Davis: 423.534.7439</td>\n",
       "    </tr>\n",
       "    <tr>\n",
       "      <th>4</th>\n",
       "      <td>4498</td>\n",
       "      <td>Joseph Patrick</td>\n",
       "      <td>Male</td>\n",
       "      <td>1998-10-09</td>\n",
       "      <td>patriciacollins@example.net</td>\n",
       "      <td>001-790-812-0148x64174</td>\n",
       "      <td>0493 Lane Avenue\\r\\nSmithburgh, IN 65374</td>\n",
       "      <td>Engineering</td>\n",
       "      <td>Meteorologist</td>\n",
       "      <td>2</td>\n",
       "      <td>2021-01-12</td>\n",
       "      <td>70091</td>\n",
       "      <td>Contractor</td>\n",
       "      <td>Contract</td>\n",
       "      <td>Bachelor's Degree</td>\n",
       "      <td>table, seem</td>\n",
       "      <td>how, government, finally, east, strong</td>\n",
       "      <td>4</td>\n",
       "      <td>Agreement tax chair strategy bring kid assume ...</td>\n",
       "      <td>gas, commercial</td>\n",
       "      <td>South Jamestown</td>\n",
       "      <td>Night Shift</td>\n",
       "      <td>Terminated</td>\n",
       "      <td>Antonio Ferguson: +1-425-489-9331</td>\n",
       "    </tr>\n",
       "  </tbody>\n",
       "</table>\n",
       "</div>"
      ],
      "text/plain": [
       "   employee_id               name      gender dates_of_birth  \\\n",
       "0         6612  Martha Hutchinson        Male     1970-11-14   \n",
       "1         4793   Meghan Cervantes  Non-Binary     1992-08-20   \n",
       "2         8832        April Hanna        Male     1986-04-17   \n",
       "3         7044        George Yang  Non-Binary     2001-03-15   \n",
       "4         4498     Joseph Patrick        Male     1998-10-09   \n",
       "\n",
       "                         email            phone_number  \\\n",
       "0          randy09@example.net      708-895-4293x86180   \n",
       "1    matthewsnyder@example.com  001-727-813-2133x30484   \n",
       "2            lwood@example.net     +1-758-402-2437x248   \n",
       "3          ellen93@example.net  001-682-318-3829x45513   \n",
       "4  patriciacollins@example.net  001-790-812-0148x64174   \n",
       "\n",
       "                                             address   department  \\\n",
       "0  5301 Norman Flats Apt. 965\\r\\nNorth Darrell, P...      Finance   \n",
       "1  7917 Vincent Trafficway Apt. 254\\r\\nHallhaven,...      Finance   \n",
       "2        646 Courtney Hollow\\r\\nSouth Marc, LA 67617      Finance   \n",
       "3     3930 Kelly Wells Apt. 574\\r\\nPaulton, OR 22142  Engineering   \n",
       "4           0493 Lane Avenue\\r\\nSmithburgh, IN 65374  Engineering   \n",
       "\n",
       "            job_titles  manager_id   hire_date  salary employment_status  \\\n",
       "0        Administrator          10  2023-04-06   77367         Part-time   \n",
       "1  Mental health nurse           8  2022-05-26   81869         Full-time   \n",
       "2   Field seismologist           6  2020-06-11   97907         Part-time   \n",
       "3    Nurse, children's           5  2020-11-25  110034         Part-time   \n",
       "4        Meteorologist           2  2021-01-12   70091        Contractor   \n",
       "\n",
       "  employee_type    education_level          certifications  \\\n",
       "0       Regular    Master's Degree                    team   \n",
       "1     Temporary                PhD  whether, some, measure   \n",
       "2     Temporary                PhD               job, week   \n",
       "3       Regular                PhD       position, similar   \n",
       "4      Contract  Bachelor's Degree             table, seem   \n",
       "\n",
       "                                      skills  performance_ratings  \\\n",
       "0  senior, kitchen, president, call, station                    3   \n",
       "1                perhaps, knowledge, officer                    4   \n",
       "2                        tend, official, red                    4   \n",
       "3     question, their, health, single, whole                    2   \n",
       "4     how, government, finally, east, strong                    4   \n",
       "\n",
       "                                     work_experience benefits_enrollment  \\\n",
       "0  Receive determine pass find. Authority laugh r...  data, cell, people   \n",
       "1  Prevent meet bill computer upon keep receive. ...    appear, discover   \n",
       "2                           Necessary Congress real.         stop, woman   \n",
       "3  Yard whose different trade. Free foreign quest...     product, either   \n",
       "4  Agreement tax chair strategy bring kid assume ...     gas, commercial   \n",
       "\n",
       "               city   work_hours employee_status  \\\n",
       "0       Hollandberg          9-5          Active   \n",
       "1  East Sabrinafurt          9-5          Active   \n",
       "2      New Garyfurt          9-5          Active   \n",
       "3  Christophermouth         12-8        On Leave   \n",
       "4   South Jamestown  Night Shift      Terminated   \n",
       "\n",
       "                     emergency_contacts  \n",
       "0  Alicia Payne: 001-469-835-3679x07176  \n",
       "1    Brandy Lopez: +1-642-314-0561x6900  \n",
       "2      Craig Rivera: 267.574.5240x08971  \n",
       "3            Lauren Davis: 423.534.7439  \n",
       "4     Antonio Ferguson: +1-425-489-9331  "
      ]
     },
     "execution_count": 80,
     "metadata": {},
     "output_type": "execute_result"
    }
   ],
   "source": [
    "pd.set_option('display.max_columns', None)\n",
    "df = pd.read_csv(\"fake_employee.csv\")\n",
    "df.head()\n"
   ]
  },
  {
   "cell_type": "markdown",
   "id": "47b37dba",
   "metadata": {},
   "source": [
    "# Data Preparation"
   ]
  },
  {
   "cell_type": "code",
   "execution_count": 81,
   "id": "23ad73b5",
   "metadata": {},
   "outputs": [
    {
     "name": "stdout",
     "output_type": "stream",
     "text": [
      "employee_id            952\n",
      "name                   995\n",
      "email                  998\n",
      "phone_number          1000\n",
      "address               1000\n",
      "dates_of_birth         974\n",
      "skills                1000\n",
      "emergency_contacts    1000\n",
      "manager_id              10\n",
      "work_hours               3\n",
      "dtype: int64\n"
     ]
    }
   ],
   "source": [
    "cols_to_remove = [\n",
    "    'employee_id', 'name', 'email', 'phone_number', 'address',\n",
    "    'dates_of_birth', 'skills', 'emergency_contacts'\n",
    "]\n",
    "\n",
    "# Show unique value count before dropping\n",
    "print(df[cols_to_remove + ['manager_id', 'work_hours']].nunique())\n",
    "\n",
    "# Drop only non-useful columns\n",
    "df.drop([col for col in cols_to_remove if col in df.columns], axis=1, inplace=True)\n",
    "\n",
    "# Convert to string for categorical encoding later\n",
    "df['manager_id'] = df['manager_id'].astype(str)\n",
    "df['work_hours'] = df['work_hours'].astype(str)\n",
    "\n",
    "# Keep a clean original version for comparison\n",
    "df_original = df.copy()\n"
   ]
  },
  {
   "cell_type": "markdown",
   "id": "2eba3965",
   "metadata": {},
   "source": [
    "## Pre-Processing"
   ]
  },
  {
   "cell_type": "code",
   "execution_count": 82,
   "id": "f8563189",
   "metadata": {},
   "outputs": [
    {
     "data": {
      "text/html": [
       "<div>\n",
       "<style scoped>\n",
       "    .dataframe tbody tr th:only-of-type {\n",
       "        vertical-align: middle;\n",
       "    }\n",
       "\n",
       "    .dataframe tbody tr th {\n",
       "        vertical-align: top;\n",
       "    }\n",
       "\n",
       "    .dataframe thead th {\n",
       "        text-align: right;\n",
       "    }\n",
       "</style>\n",
       "<table border=\"1\" class=\"dataframe\">\n",
       "  <thead>\n",
       "    <tr style=\"text-align: right;\">\n",
       "      <th></th>\n",
       "      <th>salary</th>\n",
       "    </tr>\n",
       "  </thead>\n",
       "  <tbody>\n",
       "    <tr>\n",
       "      <th>0</th>\n",
       "      <td>77367</td>\n",
       "    </tr>\n",
       "    <tr>\n",
       "      <th>1</th>\n",
       "      <td>81869</td>\n",
       "    </tr>\n",
       "    <tr>\n",
       "      <th>2</th>\n",
       "      <td>97907</td>\n",
       "    </tr>\n",
       "    <tr>\n",
       "      <th>3</th>\n",
       "      <td>110034</td>\n",
       "    </tr>\n",
       "    <tr>\n",
       "      <th>4</th>\n",
       "      <td>70091</td>\n",
       "    </tr>\n",
       "  </tbody>\n",
       "</table>\n",
       "</div>"
      ],
      "text/plain": [
       "   salary\n",
       "0   77367\n",
       "1   81869\n",
       "2   97907\n",
       "3  110034\n",
       "4   70091"
      ]
     },
     "execution_count": 82,
     "metadata": {},
     "output_type": "execute_result"
    }
   ],
   "source": [
    "df[[\"salary\"]].head()"
   ]
  },
  {
   "cell_type": "code",
   "execution_count": 83,
   "id": "8ea9eaec",
   "metadata": {},
   "outputs": [
    {
     "data": {
      "image/png": "[encoded data removed]",
      "text/plain": [
       "<Figure size 640x480 with 1 Axes>"
      ]
     },
     "metadata": {},
     "output_type": "display_data"
    }
   ],
   "source": [
    "# Create a countplot for the rounded salary \n",
    "sns.countplot(data=df, x='salary')\n",
    "plt.title('Distribution of Rounded Salary')\n",
    "plt.xlabel('Rounded Salary')\n",
    "plt.ylabel('Count')\n",
    "plt.xticks(rotation=45)\n",
    "plt.show()"
   ]
  },
  {
   "cell_type": "markdown",
   "id": "aec0bc42",
   "metadata": {},
   "source": [
    "## Feature Engineering"
   ]
  },
  {
   "cell_type": "code",
   "execution_count": 84,
   "id": "b8dfc986",
   "metadata": {},
   "outputs": [],
   "source": [
    "df['hire_date'] = pd.to_datetime(df['hire_date'], errors='coerce')\n",
    "df['experience_years'] = 2025 - df['hire_date'].dt.year\n",
    "df['experience_years'] = df['experience_years'].fillna(0).astype(int)\n"
   ]
  },
  {
   "cell_type": "markdown",
   "id": "81b4d104",
   "metadata": {},
   "source": [
    "# Functions to apply the anonimization"
   ]
  },
  {
   "cell_type": "code",
   "execution_count": 85,
   "id": "924f3ca0",
   "metadata": {},
   "outputs": [],
   "source": [
    "def preprocess_for_ml(df):\n",
    "    y = df['salary']\n",
    "    X = df.drop(columns=['salary'])  # Drop the target column (target = salary)\n",
    "\n",
    "    # Replace '*' with np.nan and fill\n",
    "    X = X.replace('*', np.nan).fillna('Missing')\n",
    "\n",
    "    # Encode categorical variables using LabelEncoder\n",
    "    for col in X.select_dtypes(include='object').columns:\n",
    "        encoder = LabelEncoder()\n",
    "        X[col] = encoder.fit_transform(X[col].astype(str))\n",
    "\n",
    "    return X, y\n"
   ]
  },
  {
   "cell_type": "code",
   "execution_count": 86,
   "id": "50082fe3",
   "metadata": {},
   "outputs": [],
   "source": [
    "# Evaluation function to use in both original and anonymized datasets\n",
    "def evaluate_on_dataset_cv(df, label=''):\n",
    "    X, y = preprocess_for_ml(df)\n",
    "    model = RandomForestRegressor(random_state=42)\n",
    "    scores = cross_val_score(model, X, y, cv=5, scoring='neg_mean_absolute_error')\n",
    "    print(f\"✅ {label} - MAE (média CV): {-np.mean(scores):.2f}\")\n",
    "    return {'label': label, 'mae_cv': -np.mean(scores)}\n"
   ]
  },
  {
   "cell_type": "code",
   "execution_count": 87,
   "id": "e7f4ab11",
   "metadata": {},
   "outputs": [],
   "source": [
    "\n",
    "# Function to train and evaluate models\n",
    "def train_and_evaluate(model, X_train, X_test, y_train, y_test, label=''):\n",
    "    model.fit(X_train, y_train)\n",
    "    y_pred = model.predict(X_test)\n",
    "    mae = mean_absolute_error(y_test, y_pred)\n",
    "    print(f\"Model ({label}) - MAE: {mae:.2f}\")\n",
    "    return mae\n"
   ]
  },
  {
   "cell_type": "code",
   "execution_count": 88,
   "id": "87851c35",
   "metadata": {},
   "outputs": [],
   "source": [
    "\n",
    "# Training and evaluation function for all models\n",
    "def evaluate_models(X_train, X_test, y_train, y_test):\n",
    "    models = [\n",
    "        (RandomForestRegressor(random_state=42), \"Random Forest\"),\n",
    "        (LinearRegression(), \"Linear Regression\"),\n",
    "        (DecisionTreeRegressor(random_state=42), \"Decision Tree\"),\n",
    "        (GradientBoostingRegressor(random_state=42), \"Gradient Boosting\")\n",
    "    ]\n",
    "    \n",
    "    results = {}\n",
    "    for model, label in models:\n",
    "        mae = train_and_evaluate(model, X_train, X_test, y_train, y_test, label)\n",
    "        results[label] = mae\n",
    "\n",
    "    return results\n"
   ]
  },
  {
   "cell_type": "markdown",
   "id": "58082909",
   "metadata": {},
   "source": [
    "## GridSearch with RandomForest"
   ]
  },
  {
   "cell_type": "code",
   "execution_count": 89,
   "id": "4a6943b9",
   "metadata": {},
   "outputs": [
    {
     "name": "stdout",
     "output_type": "stream",
     "text": [
      "Fitting 5 folds for each of 36 candidates, totalling 180 fits\n",
      "🔍 Best Parameters:\n",
      "{'max_depth': 10, 'min_samples_leaf': 1, 'min_samples_split': 2, 'n_estimators': 300}\n",
      "📉 Best MAE (CV mean): 20278.47\n"
     ]
    }
   ],
   "source": [
    "# Reutiliza os dados preparados\n",
    "X, y = preprocess_for_ml(df_original)\n",
    "X_train, X_test, y_train, y_test = train_test_split(X, y, test_size=0.2, random_state=42)\n",
    "\n",
    "# Define o espaço de pesquisa\n",
    "param_grid = {\n",
    "    'n_estimators': [100, 200, 300],\n",
    "    'max_depth': [None, 10, 20],\n",
    "    'min_samples_split': [2, 5],\n",
    "    'min_samples_leaf': [1, 2]\n",
    "}\n",
    "\n",
    "# Inicia o GridSearch\n",
    "grid_search = GridSearchCV(\n",
    "    estimator=RandomForestRegressor(random_state=42),\n",
    "    param_grid=param_grid,\n",
    "    cv=5,\n",
    "    scoring='neg_mean_absolute_error',\n",
    "    n_jobs=-1,\n",
    "    verbose=1\n",
    ")\n",
    "\n",
    "# Treinar\n",
    "grid_search.fit(X_train, y_train)\n",
    "\n",
    "# Resultados\n",
    "print(\"🔍 Best Parameters:\")\n",
    "print(grid_search.best_params_)\n",
    "print(f\"📉 Best MAE (CV mean): {-grid_search.best_score_:.2f}\")"
   ]
  },
  {
   "cell_type": "code",
   "execution_count": 90,
   "id": "241f8587",
   "metadata": {},
   "outputs": [
    {
     "name": "stdout",
     "output_type": "stream",
     "text": [
      "✅ Anonymization for k=5:\n",
      " - Unique QID combinations: 75\n",
      " - Suppressed cells (NaN): 0 / 3000 (0.00%)\n",
      "Fitting 5 folds for each of 16 candidates, totalling 80 fits\n",
      "✅ Anonymization for k=10:\n",
      " - Unique QID combinations: 69\n",
      " - Suppressed cells (NaN): 165 / 3000 (5.50%)\n",
      "Fitting 5 folds for each of 16 candidates, totalling 80 fits\n",
      "✅ Anonymization for k=15:\n",
      " - Unique QID combinations: 26\n",
      " - Suppressed cells (NaN): 1743 / 3000 (58.10%)\n",
      "Fitting 5 folds for each of 16 candidates, totalling 80 fits\n",
      "✅ Anonymization for k=20:\n",
      " - Unique QID combinations: 4\n",
      " - Suppressed cells (NaN): 2802 / 3000 (93.40%)\n",
      "Fitting 5 folds for each of 16 candidates, totalling 80 fits\n"
     ]
    },
    {
     "data": {
      "text/html": [
       "<div>\n",
       "<style scoped>\n",
       "    .dataframe tbody tr th:only-of-type {\n",
       "        vertical-align: middle;\n",
       "    }\n",
       "\n",
       "    .dataframe tbody tr th {\n",
       "        vertical-align: top;\n",
       "    }\n",
       "\n",
       "    .dataframe thead th {\n",
       "        text-align: right;\n",
       "    }\n",
       "</style>\n",
       "<table border=\"1\" class=\"dataframe\">\n",
       "  <thead>\n",
       "    <tr style=\"text-align: right;\">\n",
       "      <th></th>\n",
       "      <th>k</th>\n",
       "      <th>best_params</th>\n",
       "      <th>best_mae</th>\n",
       "    </tr>\n",
       "  </thead>\n",
       "  <tbody>\n",
       "    <tr>\n",
       "      <th>0</th>\n",
       "      <td>5</td>\n",
       "      <td>{'max_depth': 10, 'min_samples_leaf': 2, 'min_...</td>\n",
       "      <td>20287.010960</td>\n",
       "    </tr>\n",
       "    <tr>\n",
       "      <th>1</th>\n",
       "      <td>10</td>\n",
       "      <td>{'max_depth': None, 'min_samples_leaf': 1, 'mi...</td>\n",
       "      <td>20209.858135</td>\n",
       "    </tr>\n",
       "    <tr>\n",
       "      <th>2</th>\n",
       "      <td>15</td>\n",
       "      <td>{'max_depth': 10, 'min_samples_leaf': 2, 'min_...</td>\n",
       "      <td>20152.573832</td>\n",
       "    </tr>\n",
       "    <tr>\n",
       "      <th>3</th>\n",
       "      <td>20</td>\n",
       "      <td>{'max_depth': 10, 'min_samples_leaf': 2, 'min_...</td>\n",
       "      <td>20243.875714</td>\n",
       "    </tr>\n",
       "  </tbody>\n",
       "</table>\n",
       "</div>"
      ],
      "text/plain": [
       "    k                                        best_params      best_mae\n",
       "0   5  {'max_depth': 10, 'min_samples_leaf': 2, 'min_...  20287.010960\n",
       "1  10  {'max_depth': None, 'min_samples_leaf': 1, 'mi...  20209.858135\n",
       "2  15  {'max_depth': 10, 'min_samples_leaf': 2, 'min_...  20152.573832\n",
       "3  20  {'max_depth': 10, 'min_samples_leaf': 2, 'min_...  20243.875714"
      ]
     },
     "metadata": {},
     "output_type": "display_data"
    }
   ],
   "source": [
    "def gridsearch_on_anonymized(df_original, k_values):\n",
    "    results = []\n",
    "\n",
    "    for k in k_values:\n",
    "        df_k = apply_k_anonymity(df_original.copy(), k)\n",
    "        X, y = preprocess_for_ml(df_k)\n",
    "        X_train, X_test, y_train, y_test = train_test_split(X, y, test_size=0.2, random_state=42)\n",
    "\n",
    "        param_grid = {\n",
    "            'n_estimators': [100, 200],\n",
    "            'max_depth': [None, 10],\n",
    "            'min_samples_split': [2, 5],\n",
    "            'min_samples_leaf': [1, 2]\n",
    "        }\n",
    "\n",
    "        grid_search = GridSearchCV(\n",
    "            estimator=RandomForestRegressor(random_state=42),\n",
    "            param_grid=param_grid,\n",
    "            cv=5,\n",
    "            scoring='neg_mean_absolute_error',\n",
    "            n_jobs=-1,\n",
    "            verbose=1\n",
    "        )\n",
    "\n",
    "        grid_search.fit(X_train, y_train)\n",
    "\n",
    "        results.append({\n",
    "            'k': k,\n",
    "            'best_params': grid_search.best_params_,\n",
    "            'best_mae': -grid_search.best_score_\n",
    "        })\n",
    "\n",
    "    return pd.DataFrame(results)\n",
    "\n",
    "# ⚠️ Antes disto, garante que df_original tem a coluna 'salary' e está pré-processado corretamente.\n",
    "\n",
    "gridsearch_results = gridsearch_on_anonymized(df_original, [5, 10, 15, 20])\n",
    "display(gridsearch_results)\n"
   ]
  },
  {
   "cell_type": "markdown",
   "id": "c9a9660a",
   "metadata": {},
   "source": [
    "# Anonymity"
   ]
  },
  {
   "cell_type": "markdown",
   "id": "5d290bf5",
   "metadata": {},
   "source": [
    "## K=1"
   ]
  },
  {
   "cell_type": "code",
   "execution_count": 91,
   "id": "633ffe38",
   "metadata": {},
   "outputs": [],
   "source": [
    "def apply_k_anonymity(df, k):\n",
    "    df = df.copy()\n",
    "    \n",
    "    # Define quasi-identifiers\n",
    "    QIDs = ['gender', 'department', 'education_level']\n",
    "    \n",
    "    # Generalization based on k level\n",
    "    def generalize(row):\n",
    "        # Gender\n",
    "        if k >= 5 and isinstance(row['gender'], str):\n",
    "            row['gender'] = row['gender'][0]  # Só a inicial\n",
    "        # City\n",
    "        if k >= 10 and isinstance(row['city'], str):\n",
    "            row['city'] = row['city'][:2]    # Só as 2 primeiras letras\n",
    "        elif k >= 5 and isinstance(row['city'], str):\n",
    "            row['city'] = row['city'][:3]    # Só as 3 primeiras letras\n",
    "        # Department\n",
    "        elif k >= 5 and isinstance(row['department'], str):\n",
    "            if any(x in row['department'] for x in ['IT', 'Tech', 'Developer']):\n",
    "                row['department'] = 'Tech'\n",
    "            elif any(x in row['department'] for x in ['HR', 'Admin']):\n",
    "                row['department'] = 'Admin'\n",
    "            else:\n",
    "                row['department'] = 'Other'\n",
    "\n",
    "        # Job Titles\n",
    "        if k >= 10 and isinstance(row['job_titles'], str):\n",
    "            row['job_titles'] = \" \".join(row['job_titles'].split()[:1])\n",
    "        elif k >= 5 and isinstance(row['job_titles'], str):\n",
    "            row['job_titles'] = \" \".join(row['job_titles'].split()[:2])\n",
    "        # Hire Date\n",
    "        try:\n",
    "            parsed_date = pd.to_datetime(row['hire_date'], errors='coerce')\n",
    "            if pd.isna(parsed_date):\n",
    "                row['hire_date'] = 'Missing'\n",
    "            elif k >= 10:\n",
    "                row['hire_date'] = parsed_date.year // 10 * 10  # Década\n",
    "            elif k >= 5:\n",
    "                row['hire_date'] = parsed_date.year\n",
    "            elif k >= 2:\n",
    "                row['hire_date'] = parsed_date.strftime('%Y-%m')\n",
    "        except:\n",
    "            row['hire_date'] = 'Missing'\n",
    "        return row\n",
    "\n",
    "    df = df.apply(generalize, axis=1)\n",
    "    # Group by QIDs and get group sizes\n",
    "    group_sizes = df.groupby(QIDs).size().reset_index(name='counts')\n",
    "\n",
    "    # Identify groups with fewer than k\n",
    "    small_groups = group_sizes[group_sizes['counts'] < k]\n",
    "\n",
    "    # Suppression for small groups\n",
    "    def suppress(row):\n",
    "        is_small = ((small_groups[QIDs] == row[QIDs]).all(axis=1)).any()\n",
    "        if is_small:\n",
    "            for col in QIDs:\n",
    "                row[col] = np.nan\n",
    "        return row\n",
    "\n",
    "    # Apply suppression\n",
    "    df = df.apply(suppress, axis=1)\n",
    "\n",
    "    # Contagem realista de células anonimizadas\n",
    "    total_qid_cells = df[QIDs].size\n",
    "    suppressed_cells = df[QIDs].isna().sum().sum()\n",
    "    percent = (suppressed_cells / total_qid_cells) * 100\n",
    "\n",
    "    print(f\"✅ Anonymization for k={k}:\")\n",
    "    print(f\" - Unique QID combinations: {df[QIDs].drop_duplicates().shape[0]}\")\n",
    "    print(f\" - Suppressed cells (NaN): {suppressed_cells} / {total_qid_cells} ({percent:.2f}%)\")\n",
    "\n",
    "    return df\n"
   ]
  },
  {
   "cell_type": "markdown",
   "id": "59b151f7",
   "metadata": {},
   "source": [
    "## K=2"
   ]
  },
  {
   "cell_type": "code",
   "execution_count": 92,
   "id": "11458fca",
   "metadata": {},
   "outputs": [
    {
     "name": "stdout",
     "output_type": "stream",
     "text": [
      "✅ Anonymization for k=2:\n",
      " - Unique QID combinations: 75\n",
      " - Suppressed cells (NaN): 0 / 3000 (0.00%)\n",
      "Model (Random Forest) - MAE: 19407.71\n",
      "Model (Linear Regression) - MAE: 19008.91\n",
      "Model (Decision Tree) - MAE: 25835.96\n",
      "Model (Gradient Boosting) - MAE: 19390.27\n"
     ]
    }
   ],
   "source": [
    "k = 2\n",
    "df_anonymous = apply_k_anonymity(df, k)\n",
    "\n",
    "X_processed, y_processed = preprocess_for_ml(df_anonymous)\n",
    "\n",
    "X_train, X_test, y_train, y_test = train_test_split(X_processed, y_processed, test_size=0.2, random_state=42)\n",
    "\n",
    "model_results_k2 = evaluate_models(X_train, X_test, y_train, y_test)\n"
   ]
  },
  {
   "cell_type": "markdown",
   "id": "a7160be8",
   "metadata": {},
   "source": [
    "## K=5"
   ]
  },
  {
   "cell_type": "code",
   "execution_count": 93,
   "id": "0a5295a9",
   "metadata": {},
   "outputs": [
    {
     "name": "stdout",
     "output_type": "stream",
     "text": [
      "✅ Anonymization for k=5:\n",
      " - Unique QID combinations: 75\n",
      " - Suppressed cells (NaN): 0 / 3000 (0.00%)\n",
      "Model (Random Forest) - MAE: 19577.96\n",
      "Model (Linear Regression) - MAE: 18963.39\n",
      "Model (Decision Tree) - MAE: 25395.23\n",
      "Model (Gradient Boosting) - MAE: 19459.29\n"
     ]
    }
   ],
   "source": [
    "\n",
    "k = 5\n",
    "df_anonymous = apply_k_anonymity(df, k)\n",
    "\n",
    "X_processed, y_processed = preprocess_for_ml(df_anonymous)\n",
    "\n",
    "X_train, X_test, y_train, y_test = train_test_split(X_processed, y_processed, test_size=0.2, random_state=42)\n",
    "\n",
    "model_results_k5 = evaluate_models(X_train, X_test, y_train, y_test)\n"
   ]
  },
  {
   "cell_type": "markdown",
   "id": "80e7bacd",
   "metadata": {},
   "source": [
    "## K=10"
   ]
  },
  {
   "cell_type": "code",
   "execution_count": 94,
   "id": "4ddf0c5f",
   "metadata": {},
   "outputs": [
    {
     "name": "stdout",
     "output_type": "stream",
     "text": [
      "✅ Anonymization for k=10:\n",
      " - Unique QID combinations: 69\n",
      " - Suppressed cells (NaN): 165 / 3000 (5.50%)\n",
      "Model (Random Forest) - MAE: 19403.15\n",
      "Model (Linear Regression) - MAE: 19004.00\n",
      "Model (Decision Tree) - MAE: 24721.62\n",
      "Model (Gradient Boosting) - MAE: 19864.60\n"
     ]
    }
   ],
   "source": [
    "k = 10\n",
    "df_anonymous = apply_k_anonymity(df, k)\n",
    "\n",
    "X_processed, y_processed = preprocess_for_ml(df_anonymous)\n",
    "\n",
    "X_train, X_test, y_train, y_test = train_test_split(X_processed, y_processed, test_size=0.2, random_state=42)\n",
    "\n",
    "model_results_k10 = evaluate_models(X_train, X_test, y_train, y_test)\n"
   ]
  },
  {
   "cell_type": "markdown",
   "id": "6ccd7f33",
   "metadata": {},
   "source": [
    "## K=15"
   ]
  },
  {
   "cell_type": "code",
   "execution_count": 95,
   "id": "45f9ed0a",
   "metadata": {},
   "outputs": [
    {
     "name": "stdout",
     "output_type": "stream",
     "text": [
      "✅ Anonymization for k=15:\n",
      " - Unique QID combinations: 26\n",
      " - Suppressed cells (NaN): 1743 / 3000 (58.10%)\n",
      "Model (Random Forest) - MAE: 19398.66\n",
      "Model (Linear Regression) - MAE: 18956.83\n",
      "Model (Decision Tree) - MAE: 23358.82\n",
      "Model (Gradient Boosting) - MAE: 19365.26\n"
     ]
    }
   ],
   "source": [
    "k = 15\n",
    "df_anonymous = apply_k_anonymity(df, k)\n",
    "\n",
    "X_processed, y_processed = preprocess_for_ml(df_anonymous)\n",
    "\n",
    "X_train, X_test, y_train, y_test = train_test_split(X_processed, y_processed, test_size=0.2, random_state=42)\n",
    "\n",
    "model_results_k15 = evaluate_models(X_train, X_test, y_train, y_test)\n"
   ]
  },
  {
   "cell_type": "markdown",
   "id": "fd41846d",
   "metadata": {},
   "source": [
    "## K=20"
   ]
  },
  {
   "cell_type": "code",
   "execution_count": 96,
   "id": "042f6f97",
   "metadata": {},
   "outputs": [
    {
     "name": "stdout",
     "output_type": "stream",
     "text": [
      "✅ Anonymization for k=20:\n",
      " - Unique QID combinations: 4\n",
      " - Suppressed cells (NaN): 2802 / 3000 (93.40%)\n",
      "Model (Random Forest) - MAE: 19189.50\n",
      "Model (Linear Regression) - MAE: 18845.41\n",
      "Model (Decision Tree) - MAE: 24185.81\n",
      "Model (Gradient Boosting) - MAE: 19948.79\n"
     ]
    }
   ],
   "source": [
    "k = 20\n",
    "df_anonymous = apply_k_anonymity(df, k)\n",
    "\n",
    "X_processed, y_processed = preprocess_for_ml(df_anonymous)\n",
    "\n",
    "X_train, X_test, y_train, y_test = train_test_split(X_processed, y_processed, test_size=0.2, random_state=42)\n",
    "\n",
    "model_results_k20 = evaluate_models(X_train, X_test, y_train, y_test)\n"
   ]
  },
  {
   "cell_type": "markdown",
   "id": "89251d98",
   "metadata": {},
   "source": [
    "## Evaluation on original + anonymized datasets"
   ]
  },
  {
   "cell_type": "code",
   "execution_count": 97,
   "id": "b869f7e8",
   "metadata": {},
   "outputs": [
    {
     "name": "stdout",
     "output_type": "stream",
     "text": [
      "Model (Random Forest) - MAE: 19457.18\n",
      "Model (Linear Regression) - MAE: 18989.42\n",
      "Model (Decision Tree) - MAE: 25166.24\n",
      "Model (Gradient Boosting) - MAE: 19805.78\n",
      "✅ Anonymization for k=2:\n",
      " - Unique QID combinations: 75\n",
      " - Suppressed cells (NaN): 0 / 3000 (0.00%)\n",
      "Model (Random Forest) - MAE: 19406.14\n",
      "Model (Linear Regression) - MAE: 18991.89\n",
      "Model (Decision Tree) - MAE: 25887.07\n",
      "Model (Gradient Boosting) - MAE: 19342.68\n",
      "✅ Anonymization for k=5:\n",
      " - Unique QID combinations: 75\n",
      " - Suppressed cells (NaN): 0 / 3000 (0.00%)\n",
      "Model (Random Forest) - MAE: 19534.58\n",
      "Model (Linear Regression) - MAE: 18963.39\n",
      "Model (Decision Tree) - MAE: 25828.03\n",
      "Model (Gradient Boosting) - MAE: 19474.68\n",
      "✅ Anonymization for k=10:\n",
      " - Unique QID combinations: 69\n",
      " - Suppressed cells (NaN): 165 / 3000 (5.50%)\n",
      "Model (Random Forest) - MAE: 19412.35\n",
      "Model (Linear Regression) - MAE: 19004.75\n",
      "Model (Decision Tree) - MAE: 24506.85\n",
      "Model (Gradient Boosting) - MAE: 19763.91\n",
      "✅ Anonymization for k=15:\n",
      " - Unique QID combinations: 26\n",
      " - Suppressed cells (NaN): 1743 / 3000 (58.10%)\n",
      "Model (Random Forest) - MAE: 19235.95\n",
      "Model (Linear Regression) - MAE: 18969.83\n",
      "Model (Decision Tree) - MAE: 22976.13\n",
      "Model (Gradient Boosting) - MAE: 19495.24\n",
      "✅ Anonymization for k=20:\n",
      " - Unique QID combinations: 4\n",
      " - Suppressed cells (NaN): 2802 / 3000 (93.40%)\n",
      "Model (Random Forest) - MAE: 19143.58\n",
      "Model (Linear Regression) - MAE: 18852.97\n",
      "Model (Decision Tree) - MAE: 24569.36\n",
      "Model (Gradient Boosting) - MAE: 19995.69\n"
     ]
    }
   ],
   "source": [
    "# Evaluate on original + anonymized datasets\n",
    "all_results = []\n",
    "\n",
    "for k in [0, 2, 5, 10, 15, 20]:\n",
    "    if k == 0:\n",
    "        df_k = df_original.copy()\n",
    "        label = \"Original\"\n",
    "    else:\n",
    "        df_k = apply_k_anonymity(df_original.copy(), k)\n",
    "        label = f\"k={k}\"\n",
    "    X, y = preprocess_for_ml(df_k)\n",
    "    X_train, X_test, y_train, y_test = train_test_split(X, y, test_size=0.2, random_state=42)\n",
    "    model_maes = evaluate_models(X_train, X_test, y_train, y_test)\n",
    "    for model_name, mae in model_maes.items():\n",
    "        all_results.append({'k': k, 'label': label, 'model': model_name, 'mae': mae})\n",
    "\n",
    "results_df = pd.DataFrame(all_results)\n"
   ]
  },
  {
   "cell_type": "markdown",
   "id": "46c5165b",
   "metadata": {},
   "source": [
    "# Attempt to preview salary on the anonymized dataset"
   ]
  },
  {
   "cell_type": "code",
   "execution_count": 98,
   "id": "a8e1665a",
   "metadata": {},
   "outputs": [
    {
     "name": "stdout",
     "output_type": "stream",
     "text": [
      "✅ Anonymization for k=2:\n",
      " - Unique QID combinations: 75\n",
      " - Suppressed cells (NaN): 0 / 3000 (0.00%)\n"
     ]
    }
   ],
   "source": [
    "# Keep a clean reference to the original salaries\n",
    "original_salaries = df['salary'].copy()\n",
    "\n",
    "k = 2 # or any k you want to test\n",
    "df_anonymous = apply_k_anonymity(df.copy(), k)"
   ]
  },
  {
   "cell_type": "markdown",
   "id": "ee626e56",
   "metadata": {},
   "source": [
    "## Preprocessing to train"
   ]
  },
  {
   "cell_type": "code",
   "execution_count": 99,
   "id": "19c45c4b",
   "metadata": {},
   "outputs": [
    {
     "name": "stdout",
     "output_type": "stream",
     "text": [
      "🔍 Salary prediction on anonymized data (k=2)\n",
      " - MAE: 19407.71\n",
      " - R² Score: -0.0177\n"
     ]
    }
   ],
   "source": [
    "X_processed, _ = preprocess_for_ml(df_anonymous)  \n",
    "y_true = original_salaries  \n",
    "\n",
    "# Split\n",
    "X_train, X_test, y_train, y_test = train_test_split(X_processed, y_true, test_size=0.2, random_state=42)\n",
    "\n",
    "# Train a model\n",
    "model = RandomForestRegressor(random_state=42)\n",
    "model.fit(X_train, y_train)\n",
    "\n",
    "# Predict\n",
    "y_pred = model.predict(X_test)\n",
    "\n",
    "# Evaluate\n",
    "mae = mean_absolute_error(y_test, y_pred)\n",
    "r2 = r2_score(y_test, y_pred)\n",
    "\n",
    "print(f\"🔍 Salary prediction on anonymized data (k={k})\")\n",
    "print(f\" - MAE: {mae:.2f}\")\n",
    "print(f\" - R² Score: {r2:.4f}\")\n"
   ]
  },
  {
   "cell_type": "code",
   "execution_count": 100,
   "id": "2c8e789e",
   "metadata": {},
   "outputs": [
    {
     "data": {
      "image/png": "[encoded data removed]",
      "text/plain": [
       "<Figure size 1000x600 with 1 Axes>"
      ]
     },
     "metadata": {},
     "output_type": "display_data"
    }
   ],
   "source": [
    "importances = model.feature_importances_\n",
    "feature_names = X_train.columns\n",
    "\n",
    "plt.figure(figsize=(10, 6))\n",
    "plt.barh(feature_names, importances)\n",
    "plt.title(\"Feature Importances\")\n",
    "plt.xlabel(\"Importance\")\n",
    "plt.grid(True)\n",
    "plt.tight_layout()\n",
    "plt.show()"
   ]
  },
  {
   "cell_type": "markdown",
   "id": "278600bb",
   "metadata": {},
   "source": [
    "## Results interpretation"
   ]
  },
  {
   "cell_type": "code",
   "execution_count": 101,
   "id": "f3c2efb4",
   "metadata": {},
   "outputs": [
    {
     "data": {
      "image/png": "[encoded data removed]",
      "text/plain": [
       "<Figure size 800x500 with 1 Axes>"
      ]
     },
     "metadata": {},
     "output_type": "display_data"
    }
   ],
   "source": [
    "# Create the comparison DataFrame\n",
    "comparison = pd.DataFrame({\n",
    "    'Actual Salary': y_test.reset_index(drop=True),\n",
    "    'Predicted Salary': y_pred\n",
    "})\n",
    "\n",
    "comparison_sample = comparison.head(20)\n",
    "\n",
    "# Plot\n",
    "plt.figure(figsize=(8, 5))\n",
    "plt.plot(comparison_sample.index, comparison_sample['Actual Salary'], label='Actual Salary', marker='o')\n",
    "plt.plot(comparison_sample.index, comparison_sample['Predicted Salary'], label='Predicted Salary', marker='x')\n",
    "plt.title('Actual vs Predicted Salary (First 20 Samples)')\n",
    "plt.xlabel('Sample Index')\n",
    "plt.ylabel('Salary')\n",
    "plt.xticks(comparison_sample.index)\n",
    "plt.legend()\n",
    "plt.grid(True)\n",
    "plt.tight_layout()\n",
    "plt.show()"
   ]
  }
 ],
 "metadata": {
  "kernelspec": {
   "display_name": "base",
   "language": "python",
   "name": "python3"
  },
  "language_info": {
   "codemirror_mode": {
    "name": "ipython",
    "version": 3
   },
   "file_extension": ".py",
   "mimetype": "text/x-python",
   "name": "python",
   "nbconvert_exporter": "python",
   "pygments_lexer": "ipython3",
   "version": "3.12.4"
  }
 },
 "nbformat": 4,
 "nbformat_minor": 5
}
